{
 "cells": [
  {
   "cell_type": "markdown",
   "id": "0b3046a5",
   "metadata": {},
   "source": [
    "### Import Required Libraries"
   ]
  },
  {
   "cell_type": "code",
   "execution_count": 1,
   "id": "4b4364a2",
   "metadata": {},
   "outputs": [],
   "source": [
    "import pandas as pd\n",
    "import numpy as np\n",
    "import matplotlib.pyplot as plt\n",
    "import seaborn as sns\n",
    "import statsmodels\n",
    "import statsmodels.api as sm\n",
    "from sklearn.model_selection import train_test_split\n",
    "from sklearn.preprocessing import StandardScaler\n",
    "from statsmodels.stats.outliers_influence import variance_inflation_factor\n",
    "from sklearn.preprocessing import MinMaxScaler\n",
    "from sklearn.linear_model import LinearRegression\n",
    "from sklearn.feature_selection import RFE\n",
    "from sklearn.metrics import r2_score\n",
    "import warnings\n",
    "warnings.filterwarnings('ignore')"
   ]
  },
  {
   "cell_type": "markdown",
   "id": "265079d6",
   "metadata": {},
   "source": [
    "### Data Reading and Data Understanding"
   ]
  },
  {
   "cell_type": "code",
   "execution_count": 2,
   "id": "0a490ced",
   "metadata": {},
   "outputs": [],
   "source": [
    "df = pd.read_csv('day.csv')                 # Reading the data using pandas and loading it into dataframe\n",
    "pd.set_option('display.max_columns', None)"
   ]
  },
  {
   "cell_type": "code",
   "execution_count": 3,
   "id": "0030eb13",
   "metadata": {},
   "outputs": [
    {
     "data": {
      "text/plain": [
       "(730, 16)"
      ]
     },
     "execution_count": 3,
     "metadata": {},
     "output_type": "execute_result"
    }
   ],
   "source": [
    "df.shape            # shape of the loaded dataset"
   ]
  },
  {
   "cell_type": "code",
   "execution_count": 4,
   "id": "61ea19f3",
   "metadata": {},
   "outputs": [
    {
     "data": {
      "text/html": [
       "<div>\n",
       "<style scoped>\n",
       "    .dataframe tbody tr th:only-of-type {\n",
       "        vertical-align: middle;\n",
       "    }\n",
       "\n",
       "    .dataframe tbody tr th {\n",
       "        vertical-align: top;\n",
       "    }\n",
       "\n",
       "    .dataframe thead th {\n",
       "        text-align: right;\n",
       "    }\n",
       "</style>\n",
       "<table border=\"1\" class=\"dataframe\">\n",
       "  <thead>\n",
       "    <tr style=\"text-align: right;\">\n",
       "      <th></th>\n",
       "      <th>instant</th>\n",
       "      <th>dteday</th>\n",
       "      <th>season</th>\n",
       "      <th>yr</th>\n",
       "      <th>mnth</th>\n",
       "      <th>holiday</th>\n",
       "      <th>weekday</th>\n",
       "      <th>workingday</th>\n",
       "      <th>weathersit</th>\n",
       "      <th>temp</th>\n",
       "      <th>atemp</th>\n",
       "      <th>hum</th>\n",
       "      <th>windspeed</th>\n",
       "      <th>casual</th>\n",
       "      <th>registered</th>\n",
       "      <th>cnt</th>\n",
       "    </tr>\n",
       "  </thead>\n",
       "  <tbody>\n",
       "    <tr>\n",
       "      <th>0</th>\n",
       "      <td>1</td>\n",
       "      <td>01-01-2018</td>\n",
       "      <td>1</td>\n",
       "      <td>0</td>\n",
       "      <td>1</td>\n",
       "      <td>0</td>\n",
       "      <td>6</td>\n",
       "      <td>0</td>\n",
       "      <td>2</td>\n",
       "      <td>14.110847</td>\n",
       "      <td>18.18125</td>\n",
       "      <td>80.5833</td>\n",
       "      <td>10.749882</td>\n",
       "      <td>331</td>\n",
       "      <td>654</td>\n",
       "      <td>985</td>\n",
       "    </tr>\n",
       "    <tr>\n",
       "      <th>1</th>\n",
       "      <td>2</td>\n",
       "      <td>02-01-2018</td>\n",
       "      <td>1</td>\n",
       "      <td>0</td>\n",
       "      <td>1</td>\n",
       "      <td>0</td>\n",
       "      <td>0</td>\n",
       "      <td>0</td>\n",
       "      <td>2</td>\n",
       "      <td>14.902598</td>\n",
       "      <td>17.68695</td>\n",
       "      <td>69.6087</td>\n",
       "      <td>16.652113</td>\n",
       "      <td>131</td>\n",
       "      <td>670</td>\n",
       "      <td>801</td>\n",
       "    </tr>\n",
       "    <tr>\n",
       "      <th>2</th>\n",
       "      <td>3</td>\n",
       "      <td>03-01-2018</td>\n",
       "      <td>1</td>\n",
       "      <td>0</td>\n",
       "      <td>1</td>\n",
       "      <td>0</td>\n",
       "      <td>1</td>\n",
       "      <td>1</td>\n",
       "      <td>1</td>\n",
       "      <td>8.050924</td>\n",
       "      <td>9.47025</td>\n",
       "      <td>43.7273</td>\n",
       "      <td>16.636703</td>\n",
       "      <td>120</td>\n",
       "      <td>1229</td>\n",
       "      <td>1349</td>\n",
       "    </tr>\n",
       "    <tr>\n",
       "      <th>3</th>\n",
       "      <td>4</td>\n",
       "      <td>04-01-2018</td>\n",
       "      <td>1</td>\n",
       "      <td>0</td>\n",
       "      <td>1</td>\n",
       "      <td>0</td>\n",
       "      <td>2</td>\n",
       "      <td>1</td>\n",
       "      <td>1</td>\n",
       "      <td>8.200000</td>\n",
       "      <td>10.60610</td>\n",
       "      <td>59.0435</td>\n",
       "      <td>10.739832</td>\n",
       "      <td>108</td>\n",
       "      <td>1454</td>\n",
       "      <td>1562</td>\n",
       "    </tr>\n",
       "    <tr>\n",
       "      <th>4</th>\n",
       "      <td>5</td>\n",
       "      <td>05-01-2018</td>\n",
       "      <td>1</td>\n",
       "      <td>0</td>\n",
       "      <td>1</td>\n",
       "      <td>0</td>\n",
       "      <td>3</td>\n",
       "      <td>1</td>\n",
       "      <td>1</td>\n",
       "      <td>9.305237</td>\n",
       "      <td>11.46350</td>\n",
       "      <td>43.6957</td>\n",
       "      <td>12.522300</td>\n",
       "      <td>82</td>\n",
       "      <td>1518</td>\n",
       "      <td>1600</td>\n",
       "    </tr>\n",
       "  </tbody>\n",
       "</table>\n",
       "</div>"
      ],
      "text/plain": [
       "   instant      dteday  season  yr  mnth  holiday  weekday  workingday  \\\n",
       "0        1  01-01-2018       1   0     1        0        6           0   \n",
       "1        2  02-01-2018       1   0     1        0        0           0   \n",
       "2        3  03-01-2018       1   0     1        0        1           1   \n",
       "3        4  04-01-2018       1   0     1        0        2           1   \n",
       "4        5  05-01-2018       1   0     1        0        3           1   \n",
       "\n",
       "   weathersit       temp     atemp      hum  windspeed  casual  registered  \\\n",
       "0           2  14.110847  18.18125  80.5833  10.749882     331         654   \n",
       "1           2  14.902598  17.68695  69.6087  16.652113     131         670   \n",
       "2           1   8.050924   9.47025  43.7273  16.636703     120        1229   \n",
       "3           1   8.200000  10.60610  59.0435  10.739832     108        1454   \n",
       "4           1   9.305237  11.46350  43.6957  12.522300      82        1518   \n",
       "\n",
       "    cnt  \n",
       "0   985  \n",
       "1   801  \n",
       "2  1349  \n",
       "3  1562  \n",
       "4  1600  "
      ]
     },
     "execution_count": 4,
     "metadata": {},
     "output_type": "execute_result"
    }
   ],
   "source": [
    "df.head()           # displaying dataframe"
   ]
  },
  {
   "cell_type": "code",
   "execution_count": 5,
   "id": "0b399c13",
   "metadata": {
    "scrolled": true
   },
   "outputs": [
    {
     "name": "stdout",
     "output_type": "stream",
     "text": [
      "<class 'pandas.core.frame.DataFrame'>\n",
      "RangeIndex: 730 entries, 0 to 729\n",
      "Data columns (total 16 columns):\n",
      " #   Column      Non-Null Count  Dtype  \n",
      "---  ------      --------------  -----  \n",
      " 0   instant     730 non-null    int64  \n",
      " 1   dteday      730 non-null    object \n",
      " 2   season      730 non-null    int64  \n",
      " 3   yr          730 non-null    int64  \n",
      " 4   mnth        730 non-null    int64  \n",
      " 5   holiday     730 non-null    int64  \n",
      " 6   weekday     730 non-null    int64  \n",
      " 7   workingday  730 non-null    int64  \n",
      " 8   weathersit  730 non-null    int64  \n",
      " 9   temp        730 non-null    float64\n",
      " 10  atemp       730 non-null    float64\n",
      " 11  hum         730 non-null    float64\n",
      " 12  windspeed   730 non-null    float64\n",
      " 13  casual      730 non-null    int64  \n",
      " 14  registered  730 non-null    int64  \n",
      " 15  cnt         730 non-null    int64  \n",
      "dtypes: float64(4), int64(11), object(1)\n",
      "memory usage: 91.4+ KB\n"
     ]
    }
   ],
   "source": [
    "df.info()           # summary of attributes present in dataframe"
   ]
  },
  {
   "cell_type": "code",
   "execution_count": 6,
   "id": "81470a23",
   "metadata": {},
   "outputs": [
    {
     "data": {
      "text/html": [
       "<div>\n",
       "<style scoped>\n",
       "    .dataframe tbody tr th:only-of-type {\n",
       "        vertical-align: middle;\n",
       "    }\n",
       "\n",
       "    .dataframe tbody tr th {\n",
       "        vertical-align: top;\n",
       "    }\n",
       "\n",
       "    .dataframe thead th {\n",
       "        text-align: right;\n",
       "    }\n",
       "</style>\n",
       "<table border=\"1\" class=\"dataframe\">\n",
       "  <thead>\n",
       "    <tr style=\"text-align: right;\">\n",
       "      <th></th>\n",
       "      <th>instant</th>\n",
       "      <th>season</th>\n",
       "      <th>yr</th>\n",
       "      <th>mnth</th>\n",
       "      <th>holiday</th>\n",
       "      <th>weekday</th>\n",
       "      <th>workingday</th>\n",
       "      <th>weathersit</th>\n",
       "      <th>temp</th>\n",
       "      <th>atemp</th>\n",
       "      <th>hum</th>\n",
       "      <th>windspeed</th>\n",
       "      <th>casual</th>\n",
       "      <th>registered</th>\n",
       "      <th>cnt</th>\n",
       "    </tr>\n",
       "  </thead>\n",
       "  <tbody>\n",
       "    <tr>\n",
       "      <th>count</th>\n",
       "      <td>730.000000</td>\n",
       "      <td>730.000000</td>\n",
       "      <td>730.000000</td>\n",
       "      <td>730.000000</td>\n",
       "      <td>730.000000</td>\n",
       "      <td>730.000000</td>\n",
       "      <td>730.000000</td>\n",
       "      <td>730.000000</td>\n",
       "      <td>730.000000</td>\n",
       "      <td>730.000000</td>\n",
       "      <td>730.000000</td>\n",
       "      <td>730.000000</td>\n",
       "      <td>730.000000</td>\n",
       "      <td>730.000000</td>\n",
       "      <td>730.000000</td>\n",
       "    </tr>\n",
       "    <tr>\n",
       "      <th>mean</th>\n",
       "      <td>365.500000</td>\n",
       "      <td>2.498630</td>\n",
       "      <td>0.500000</td>\n",
       "      <td>6.526027</td>\n",
       "      <td>0.028767</td>\n",
       "      <td>2.997260</td>\n",
       "      <td>0.683562</td>\n",
       "      <td>1.394521</td>\n",
       "      <td>20.319259</td>\n",
       "      <td>23.726322</td>\n",
       "      <td>62.765175</td>\n",
       "      <td>12.763620</td>\n",
       "      <td>849.249315</td>\n",
       "      <td>3658.757534</td>\n",
       "      <td>4508.006849</td>\n",
       "    </tr>\n",
       "    <tr>\n",
       "      <th>std</th>\n",
       "      <td>210.877136</td>\n",
       "      <td>1.110184</td>\n",
       "      <td>0.500343</td>\n",
       "      <td>3.450215</td>\n",
       "      <td>0.167266</td>\n",
       "      <td>2.006161</td>\n",
       "      <td>0.465405</td>\n",
       "      <td>0.544807</td>\n",
       "      <td>7.506729</td>\n",
       "      <td>8.150308</td>\n",
       "      <td>14.237589</td>\n",
       "      <td>5.195841</td>\n",
       "      <td>686.479875</td>\n",
       "      <td>1559.758728</td>\n",
       "      <td>1936.011647</td>\n",
       "    </tr>\n",
       "    <tr>\n",
       "      <th>min</th>\n",
       "      <td>1.000000</td>\n",
       "      <td>1.000000</td>\n",
       "      <td>0.000000</td>\n",
       "      <td>1.000000</td>\n",
       "      <td>0.000000</td>\n",
       "      <td>0.000000</td>\n",
       "      <td>0.000000</td>\n",
       "      <td>1.000000</td>\n",
       "      <td>2.424346</td>\n",
       "      <td>3.953480</td>\n",
       "      <td>0.000000</td>\n",
       "      <td>1.500244</td>\n",
       "      <td>2.000000</td>\n",
       "      <td>20.000000</td>\n",
       "      <td>22.000000</td>\n",
       "    </tr>\n",
       "    <tr>\n",
       "      <th>25%</th>\n",
       "      <td>183.250000</td>\n",
       "      <td>2.000000</td>\n",
       "      <td>0.000000</td>\n",
       "      <td>4.000000</td>\n",
       "      <td>0.000000</td>\n",
       "      <td>1.000000</td>\n",
       "      <td>0.000000</td>\n",
       "      <td>1.000000</td>\n",
       "      <td>13.811885</td>\n",
       "      <td>16.889713</td>\n",
       "      <td>52.000000</td>\n",
       "      <td>9.041650</td>\n",
       "      <td>316.250000</td>\n",
       "      <td>2502.250000</td>\n",
       "      <td>3169.750000</td>\n",
       "    </tr>\n",
       "    <tr>\n",
       "      <th>50%</th>\n",
       "      <td>365.500000</td>\n",
       "      <td>3.000000</td>\n",
       "      <td>0.500000</td>\n",
       "      <td>7.000000</td>\n",
       "      <td>0.000000</td>\n",
       "      <td>3.000000</td>\n",
       "      <td>1.000000</td>\n",
       "      <td>1.000000</td>\n",
       "      <td>20.465826</td>\n",
       "      <td>24.368225</td>\n",
       "      <td>62.625000</td>\n",
       "      <td>12.125325</td>\n",
       "      <td>717.000000</td>\n",
       "      <td>3664.500000</td>\n",
       "      <td>4548.500000</td>\n",
       "    </tr>\n",
       "    <tr>\n",
       "      <th>75%</th>\n",
       "      <td>547.750000</td>\n",
       "      <td>3.000000</td>\n",
       "      <td>1.000000</td>\n",
       "      <td>10.000000</td>\n",
       "      <td>0.000000</td>\n",
       "      <td>5.000000</td>\n",
       "      <td>1.000000</td>\n",
       "      <td>2.000000</td>\n",
       "      <td>26.880615</td>\n",
       "      <td>30.445775</td>\n",
       "      <td>72.989575</td>\n",
       "      <td>15.625589</td>\n",
       "      <td>1096.500000</td>\n",
       "      <td>4783.250000</td>\n",
       "      <td>5966.000000</td>\n",
       "    </tr>\n",
       "    <tr>\n",
       "      <th>max</th>\n",
       "      <td>730.000000</td>\n",
       "      <td>4.000000</td>\n",
       "      <td>1.000000</td>\n",
       "      <td>12.000000</td>\n",
       "      <td>1.000000</td>\n",
       "      <td>6.000000</td>\n",
       "      <td>1.000000</td>\n",
       "      <td>3.000000</td>\n",
       "      <td>35.328347</td>\n",
       "      <td>42.044800</td>\n",
       "      <td>97.250000</td>\n",
       "      <td>34.000021</td>\n",
       "      <td>3410.000000</td>\n",
       "      <td>6946.000000</td>\n",
       "      <td>8714.000000</td>\n",
       "    </tr>\n",
       "  </tbody>\n",
       "</table>\n",
       "</div>"
      ],
      "text/plain": [
       "          instant      season          yr        mnth     holiday     weekday  \\\n",
       "count  730.000000  730.000000  730.000000  730.000000  730.000000  730.000000   \n",
       "mean   365.500000    2.498630    0.500000    6.526027    0.028767    2.997260   \n",
       "std    210.877136    1.110184    0.500343    3.450215    0.167266    2.006161   \n",
       "min      1.000000    1.000000    0.000000    1.000000    0.000000    0.000000   \n",
       "25%    183.250000    2.000000    0.000000    4.000000    0.000000    1.000000   \n",
       "50%    365.500000    3.000000    0.500000    7.000000    0.000000    3.000000   \n",
       "75%    547.750000    3.000000    1.000000   10.000000    0.000000    5.000000   \n",
       "max    730.000000    4.000000    1.000000   12.000000    1.000000    6.000000   \n",
       "\n",
       "       workingday  weathersit        temp       atemp         hum   windspeed  \\\n",
       "count  730.000000  730.000000  730.000000  730.000000  730.000000  730.000000   \n",
       "mean     0.683562    1.394521   20.319259   23.726322   62.765175   12.763620   \n",
       "std      0.465405    0.544807    7.506729    8.150308   14.237589    5.195841   \n",
       "min      0.000000    1.000000    2.424346    3.953480    0.000000    1.500244   \n",
       "25%      0.000000    1.000000   13.811885   16.889713   52.000000    9.041650   \n",
       "50%      1.000000    1.000000   20.465826   24.368225   62.625000   12.125325   \n",
       "75%      1.000000    2.000000   26.880615   30.445775   72.989575   15.625589   \n",
       "max      1.000000    3.000000   35.328347   42.044800   97.250000   34.000021   \n",
       "\n",
       "            casual   registered          cnt  \n",
       "count   730.000000   730.000000   730.000000  \n",
       "mean    849.249315  3658.757534  4508.006849  \n",
       "std     686.479875  1559.758728  1936.011647  \n",
       "min       2.000000    20.000000    22.000000  \n",
       "25%     316.250000  2502.250000  3169.750000  \n",
       "50%     717.000000  3664.500000  4548.500000  \n",
       "75%    1096.500000  4783.250000  5966.000000  \n",
       "max    3410.000000  6946.000000  8714.000000  "
      ]
     },
     "execution_count": 6,
     "metadata": {},
     "output_type": "execute_result"
    }
   ],
   "source": [
    "df.describe()            # descriptive statistics of the data"
   ]
  },
  {
   "cell_type": "code",
   "execution_count": 7,
   "id": "99c93edf",
   "metadata": {},
   "outputs": [
    {
     "data": {
      "text/plain": [
       "Index(['instant', 'dteday', 'season', 'yr', 'mnth', 'holiday', 'weekday',\n",
       "       'workingday', 'weathersit', 'temp', 'atemp', 'hum', 'windspeed',\n",
       "       'casual', 'registered', 'cnt'],\n",
       "      dtype='object')"
      ]
     },
     "execution_count": 7,
     "metadata": {},
     "output_type": "execute_result"
    }
   ],
   "source": [
    "df.columns            # displaying the list of columns"
   ]
  },
  {
   "cell_type": "code",
   "execution_count": 8,
   "id": "709d394c",
   "metadata": {
    "scrolled": false
   },
   "outputs": [
    {
     "data": {
      "text/plain": [
       "instant         int64\n",
       "dteday         object\n",
       "season          int64\n",
       "yr              int64\n",
       "mnth            int64\n",
       "holiday         int64\n",
       "weekday         int64\n",
       "workingday      int64\n",
       "weathersit      int64\n",
       "temp          float64\n",
       "atemp         float64\n",
       "hum           float64\n",
       "windspeed     float64\n",
       "casual          int64\n",
       "registered      int64\n",
       "cnt             int64\n",
       "dtype: object"
      ]
     },
     "execution_count": 8,
     "metadata": {},
     "output_type": "execute_result"
    }
   ],
   "source": [
    "df.dtypes            # checking the datatype of each column in the data"
   ]
  },
  {
   "cell_type": "markdown",
   "id": "24cf5517",
   "metadata": {},
   "source": [
    "#### Observation acquired by reading the data:"
   ]
  },
  {
   "cell_type": "markdown",
   "id": "01b49fe5",
   "metadata": {},
   "source": [
    "- The data read by the model contains 16 columns and 730 rows.\n",
    "- From 16 columns we have 10 int data type , 4 float data type and 1 as object.\n",
    "- This 1 column in the form object can be converted to datetime in future while preprocessing the data.\n",
    "- Therefore, cnt is the target variable in the data read by the model and that specifies the number of bike shared."
   ]
  },
  {
   "cell_type": "markdown",
   "id": "f49660c7",
   "metadata": {},
   "source": [
    "### Data Preprocessing"
   ]
  },
  {
   "cell_type": "code",
   "execution_count": 9,
   "id": "7f4e240a",
   "metadata": {},
   "outputs": [
    {
     "data": {
      "text/plain": [
       "instant       0\n",
       "dteday        0\n",
       "season        0\n",
       "yr            0\n",
       "mnth          0\n",
       "holiday       0\n",
       "weekday       0\n",
       "workingday    0\n",
       "weathersit    0\n",
       "temp          0\n",
       "atemp         0\n",
       "hum           0\n",
       "windspeed     0\n",
       "casual        0\n",
       "registered    0\n",
       "cnt           0\n",
       "dtype: int64"
      ]
     },
     "execution_count": 9,
     "metadata": {},
     "output_type": "execute_result"
    }
   ],
   "source": [
    "df.isnull().sum()         # checking for null values in the dataframe"
   ]
  },
  {
   "cell_type": "code",
   "execution_count": 10,
   "id": "59b5a1c0",
   "metadata": {},
   "outputs": [],
   "source": [
    "df.drop_duplicates(subset = None, inplace = True) # dropping duplicate values from the data "
   ]
  },
  {
   "cell_type": "code",
   "execution_count": 11,
   "id": "bb1912bd",
   "metadata": {},
   "outputs": [
    {
     "data": {
      "text/plain": [
       "(730, 16)"
      ]
     },
     "execution_count": 11,
     "metadata": {},
     "output_type": "execute_result"
    }
   ],
   "source": [
    "df.shape       # if there are duplicate values in the data the shape of the dataframe will change"
   ]
  },
  {
   "cell_type": "code",
   "execution_count": 12,
   "id": "752d7b1e",
   "metadata": {},
   "outputs": [
    {
     "data": {
      "text/html": [
       "<div>\n",
       "<style scoped>\n",
       "    .dataframe tbody tr th:only-of-type {\n",
       "        vertical-align: middle;\n",
       "    }\n",
       "\n",
       "    .dataframe tbody tr th {\n",
       "        vertical-align: top;\n",
       "    }\n",
       "\n",
       "    .dataframe thead th {\n",
       "        text-align: right;\n",
       "    }\n",
       "</style>\n",
       "<table border=\"1\" class=\"dataframe\">\n",
       "  <thead>\n",
       "    <tr style=\"text-align: right;\">\n",
       "      <th></th>\n",
       "      <th>instant</th>\n",
       "      <th>dteday</th>\n",
       "      <th>season</th>\n",
       "      <th>yr</th>\n",
       "      <th>mnth</th>\n",
       "      <th>holiday</th>\n",
       "      <th>weekday</th>\n",
       "      <th>workingday</th>\n",
       "      <th>weathersit</th>\n",
       "      <th>temp</th>\n",
       "      <th>atemp</th>\n",
       "      <th>hum</th>\n",
       "      <th>windspeed</th>\n",
       "      <th>casual</th>\n",
       "      <th>registered</th>\n",
       "      <th>cnt</th>\n",
       "    </tr>\n",
       "  </thead>\n",
       "  <tbody>\n",
       "    <tr>\n",
       "      <th>0</th>\n",
       "      <td>1</td>\n",
       "      <td>01-01-2018</td>\n",
       "      <td>1</td>\n",
       "      <td>0</td>\n",
       "      <td>1</td>\n",
       "      <td>0</td>\n",
       "      <td>6</td>\n",
       "      <td>0</td>\n",
       "      <td>2</td>\n",
       "      <td>14.110847</td>\n",
       "      <td>18.18125</td>\n",
       "      <td>80.5833</td>\n",
       "      <td>10.749882</td>\n",
       "      <td>331</td>\n",
       "      <td>654</td>\n",
       "      <td>985</td>\n",
       "    </tr>\n",
       "    <tr>\n",
       "      <th>1</th>\n",
       "      <td>2</td>\n",
       "      <td>02-01-2018</td>\n",
       "      <td>1</td>\n",
       "      <td>0</td>\n",
       "      <td>1</td>\n",
       "      <td>0</td>\n",
       "      <td>0</td>\n",
       "      <td>0</td>\n",
       "      <td>2</td>\n",
       "      <td>14.902598</td>\n",
       "      <td>17.68695</td>\n",
       "      <td>69.6087</td>\n",
       "      <td>16.652113</td>\n",
       "      <td>131</td>\n",
       "      <td>670</td>\n",
       "      <td>801</td>\n",
       "    </tr>\n",
       "    <tr>\n",
       "      <th>2</th>\n",
       "      <td>3</td>\n",
       "      <td>03-01-2018</td>\n",
       "      <td>1</td>\n",
       "      <td>0</td>\n",
       "      <td>1</td>\n",
       "      <td>0</td>\n",
       "      <td>1</td>\n",
       "      <td>1</td>\n",
       "      <td>1</td>\n",
       "      <td>8.050924</td>\n",
       "      <td>9.47025</td>\n",
       "      <td>43.7273</td>\n",
       "      <td>16.636703</td>\n",
       "      <td>120</td>\n",
       "      <td>1229</td>\n",
       "      <td>1349</td>\n",
       "    </tr>\n",
       "    <tr>\n",
       "      <th>3</th>\n",
       "      <td>4</td>\n",
       "      <td>04-01-2018</td>\n",
       "      <td>1</td>\n",
       "      <td>0</td>\n",
       "      <td>1</td>\n",
       "      <td>0</td>\n",
       "      <td>2</td>\n",
       "      <td>1</td>\n",
       "      <td>1</td>\n",
       "      <td>8.200000</td>\n",
       "      <td>10.60610</td>\n",
       "      <td>59.0435</td>\n",
       "      <td>10.739832</td>\n",
       "      <td>108</td>\n",
       "      <td>1454</td>\n",
       "      <td>1562</td>\n",
       "    </tr>\n",
       "    <tr>\n",
       "      <th>4</th>\n",
       "      <td>5</td>\n",
       "      <td>05-01-2018</td>\n",
       "      <td>1</td>\n",
       "      <td>0</td>\n",
       "      <td>1</td>\n",
       "      <td>0</td>\n",
       "      <td>3</td>\n",
       "      <td>1</td>\n",
       "      <td>1</td>\n",
       "      <td>9.305237</td>\n",
       "      <td>11.46350</td>\n",
       "      <td>43.6957</td>\n",
       "      <td>12.522300</td>\n",
       "      <td>82</td>\n",
       "      <td>1518</td>\n",
       "      <td>1600</td>\n",
       "    </tr>\n",
       "  </tbody>\n",
       "</table>\n",
       "</div>"
      ],
      "text/plain": [
       "   instant      dteday  season  yr  mnth  holiday  weekday  workingday  \\\n",
       "0        1  01-01-2018       1   0     1        0        6           0   \n",
       "1        2  02-01-2018       1   0     1        0        0           0   \n",
       "2        3  03-01-2018       1   0     1        0        1           1   \n",
       "3        4  04-01-2018       1   0     1        0        2           1   \n",
       "4        5  05-01-2018       1   0     1        0        3           1   \n",
       "\n",
       "   weathersit       temp     atemp      hum  windspeed  casual  registered  \\\n",
       "0           2  14.110847  18.18125  80.5833  10.749882     331         654   \n",
       "1           2  14.902598  17.68695  69.6087  16.652113     131         670   \n",
       "2           1   8.050924   9.47025  43.7273  16.636703     120        1229   \n",
       "3           1   8.200000  10.60610  59.0435  10.739832     108        1454   \n",
       "4           1   9.305237  11.46350  43.6957  12.522300      82        1518   \n",
       "\n",
       "    cnt  \n",
       "0   985  \n",
       "1   801  \n",
       "2  1349  \n",
       "3  1562  \n",
       "4  1600  "
      ]
     },
     "execution_count": 12,
     "metadata": {},
     "output_type": "execute_result"
    }
   ],
   "source": [
    "df.head()      # displaying dataframe before dropping unwanted columns"
   ]
  },
  {
   "cell_type": "code",
   "execution_count": 13,
   "id": "f34158fd",
   "metadata": {},
   "outputs": [],
   "source": [
    "df.drop(['instant',\"dteday\",'casual','registered'], axis = 1, inplace = True) # dropping unwanted columns"
   ]
  },
  {
   "cell_type": "code",
   "execution_count": 14,
   "id": "d4d2fd67",
   "metadata": {
    "scrolled": true
   },
   "outputs": [
    {
     "data": {
      "text/html": [
       "<div>\n",
       "<style scoped>\n",
       "    .dataframe tbody tr th:only-of-type {\n",
       "        vertical-align: middle;\n",
       "    }\n",
       "\n",
       "    .dataframe tbody tr th {\n",
       "        vertical-align: top;\n",
       "    }\n",
       "\n",
       "    .dataframe thead th {\n",
       "        text-align: right;\n",
       "    }\n",
       "</style>\n",
       "<table border=\"1\" class=\"dataframe\">\n",
       "  <thead>\n",
       "    <tr style=\"text-align: right;\">\n",
       "      <th></th>\n",
       "      <th>season</th>\n",
       "      <th>yr</th>\n",
       "      <th>mnth</th>\n",
       "      <th>holiday</th>\n",
       "      <th>weekday</th>\n",
       "      <th>workingday</th>\n",
       "      <th>weathersit</th>\n",
       "      <th>temp</th>\n",
       "      <th>atemp</th>\n",
       "      <th>hum</th>\n",
       "      <th>windspeed</th>\n",
       "      <th>cnt</th>\n",
       "    </tr>\n",
       "  </thead>\n",
       "  <tbody>\n",
       "    <tr>\n",
       "      <th>0</th>\n",
       "      <td>1</td>\n",
       "      <td>0</td>\n",
       "      <td>1</td>\n",
       "      <td>0</td>\n",
       "      <td>6</td>\n",
       "      <td>0</td>\n",
       "      <td>2</td>\n",
       "      <td>14.110847</td>\n",
       "      <td>18.18125</td>\n",
       "      <td>80.5833</td>\n",
       "      <td>10.749882</td>\n",
       "      <td>985</td>\n",
       "    </tr>\n",
       "    <tr>\n",
       "      <th>1</th>\n",
       "      <td>1</td>\n",
       "      <td>0</td>\n",
       "      <td>1</td>\n",
       "      <td>0</td>\n",
       "      <td>0</td>\n",
       "      <td>0</td>\n",
       "      <td>2</td>\n",
       "      <td>14.902598</td>\n",
       "      <td>17.68695</td>\n",
       "      <td>69.6087</td>\n",
       "      <td>16.652113</td>\n",
       "      <td>801</td>\n",
       "    </tr>\n",
       "    <tr>\n",
       "      <th>2</th>\n",
       "      <td>1</td>\n",
       "      <td>0</td>\n",
       "      <td>1</td>\n",
       "      <td>0</td>\n",
       "      <td>1</td>\n",
       "      <td>1</td>\n",
       "      <td>1</td>\n",
       "      <td>8.050924</td>\n",
       "      <td>9.47025</td>\n",
       "      <td>43.7273</td>\n",
       "      <td>16.636703</td>\n",
       "      <td>1349</td>\n",
       "    </tr>\n",
       "    <tr>\n",
       "      <th>3</th>\n",
       "      <td>1</td>\n",
       "      <td>0</td>\n",
       "      <td>1</td>\n",
       "      <td>0</td>\n",
       "      <td>2</td>\n",
       "      <td>1</td>\n",
       "      <td>1</td>\n",
       "      <td>8.200000</td>\n",
       "      <td>10.60610</td>\n",
       "      <td>59.0435</td>\n",
       "      <td>10.739832</td>\n",
       "      <td>1562</td>\n",
       "    </tr>\n",
       "    <tr>\n",
       "      <th>4</th>\n",
       "      <td>1</td>\n",
       "      <td>0</td>\n",
       "      <td>1</td>\n",
       "      <td>0</td>\n",
       "      <td>3</td>\n",
       "      <td>1</td>\n",
       "      <td>1</td>\n",
       "      <td>9.305237</td>\n",
       "      <td>11.46350</td>\n",
       "      <td>43.6957</td>\n",
       "      <td>12.522300</td>\n",
       "      <td>1600</td>\n",
       "    </tr>\n",
       "  </tbody>\n",
       "</table>\n",
       "</div>"
      ],
      "text/plain": [
       "   season  yr  mnth  holiday  weekday  workingday  weathersit       temp  \\\n",
       "0       1   0     1        0        6           0           2  14.110847   \n",
       "1       1   0     1        0        0           0           2  14.902598   \n",
       "2       1   0     1        0        1           1           1   8.050924   \n",
       "3       1   0     1        0        2           1           1   8.200000   \n",
       "4       1   0     1        0        3           1           1   9.305237   \n",
       "\n",
       "      atemp      hum  windspeed   cnt  \n",
       "0  18.18125  80.5833  10.749882   985  \n",
       "1  17.68695  69.6087  16.652113   801  \n",
       "2   9.47025  43.7273  16.636703  1349  \n",
       "3  10.60610  59.0435  10.739832  1562  \n",
       "4  11.46350  43.6957  12.522300  1600  "
      ]
     },
     "execution_count": 14,
     "metadata": {},
     "output_type": "execute_result"
    }
   ],
   "source": [
    "df.head()     # displaying dataframe after dropping unwanted columns"
   ]
  },
  {
   "cell_type": "code",
   "execution_count": 15,
   "id": "4de2f6ea",
   "metadata": {},
   "outputs": [
    {
     "data": {
      "text/plain": [
       "Index(['season', 'yr', 'mnth', 'holiday', 'weekday', 'workingday',\n",
       "       'weathersit', 'temp', 'atemp', 'hum', 'windspeed', 'cnt'],\n",
       "      dtype='object')"
      ]
     },
     "execution_count": 15,
     "metadata": {},
     "output_type": "execute_result"
    }
   ],
   "source": [
    "df.columns    # displaying the list of column present in dataframe after dropping unwanted columns"
   ]
  },
  {
   "cell_type": "code",
   "execution_count": 16,
   "id": "b1b6e56e",
   "metadata": {},
   "outputs": [
    {
     "data": {
      "text/plain": [
       "season          4\n",
       "yr              2\n",
       "mnth           12\n",
       "holiday         2\n",
       "weekday         7\n",
       "workingday      2\n",
       "weathersit      3\n",
       "temp          498\n",
       "atemp         689\n",
       "hum           594\n",
       "windspeed     649\n",
       "cnt           695\n",
       "dtype: int64"
      ]
     },
     "execution_count": 16,
     "metadata": {},
     "output_type": "execute_result"
    }
   ],
   "source": [
    "df.nunique()   # checking for unique values in dataframe"
   ]
  },
  {
   "cell_type": "code",
   "execution_count": 17,
   "id": "e1feda31",
   "metadata": {},
   "outputs": [
    {
     "data": {
      "image/png": "[encoded data removed]",
      "text/plain": [
       "<Figure size 1800x1800 with 10 Axes>"
      ]
     },
     "metadata": {
      "needs_background": "light"
     },
     "output_type": "display_data"
    }
   ],
   "source": [
    "conti_df = df.copy()   # for variable with continuous values a box plot is created\n",
    "conti_var = [\"season\",\"yr\", \"mnth\",\"weekday\",\"workingday\",\"weathersit\",\"temp\",\"atemp\",\"hum\",\"windspeed\",'cnt']\n",
    "select_df = conti_df[conti_var]\n",
    "plt.figure(figsize=(25,25))\n",
    "for i in range(1,11):\n",
    "    plt.subplot(5, 3, i)\n",
    "    plt.tight_layout()\n",
    "    sns.boxplot(select_df[select_df.columns[i]])"
   ]
  },
  {
   "cell_type": "code",
   "execution_count": 18,
   "id": "5f191a47",
   "metadata": {},
   "outputs": [],
   "source": [
    "quan_1 = df[\"windspeed\"].quantile(0.25)   # ranging interquartile for windspeed column \n",
    "quan_2 = df[\"windspeed\"].quantile(0.75)\n",
    "inter_quar = quan_2 - quan_1                      \n",
    "fence_low  = quan_1 - 1.5*inter_quar\n",
    "fence_high = quan_2 + 1.5*inter_quar\n",
    "df[\"windspeed\"] = np.where(df[\"windspeed\"] > fence_high, df[\"windspeed\"].median(),df[\"windspeed\"])\n",
    "df[\"windspeed\"] = np.where(df[\"windspeed\"] < fence_low, df[\"windspeed\"].median(),df[\"windspeed\"])\n",
    "\n",
    "\n",
    "quan_3 = df[\"hum\"].quantile(0.25)         # ranging interquartile for hum column \n",
    "quan_4 = df[\"hum\"].quantile(0.75)\n",
    "inter_quar = quan_4 - quan_3                              \n",
    "fence_low  = quan_3 - 1.5*inter_quar\n",
    "fence_high = quan_2 + 1.5*inter_quar\n",
    "df[\"hum\"] = np.where(df[\"hum\"] >fence_high, df[\"hum\"].median(),df[\"hum\"])\n",
    "df[\"hum\"] = np.where(df[\"hum\"] <fence_low, df[\"hum\"].median(),df[\"hum\"])"
   ]
  },
  {
   "cell_type": "code",
   "execution_count": 19,
   "id": "3e1b2ab9",
   "metadata": {},
   "outputs": [
    {
     "data": {
      "image/png": "[encoded data removed]",
      "text/plain": [
       "<Figure size 1800x1800 with 10 Axes>"
      ]
     },
     "metadata": {
      "needs_background": "light"
     },
     "output_type": "display_data"
    }
   ],
   "source": [
    "conti_df = df.copy()       # for variable with continuous values a box plot is created after ranging interquartile\n",
    "conti_var = [\"season\",\"yr\", \"mnth\",\"weekday\",\"workingday\",\"weathersit\",\"temp\",\"atemp\",\"hum\",\"windspeed\",'cnt']\n",
    "select_df = conti_df[conti_var]\n",
    "plt.figure(figsize=(25,25))\n",
    "for i in range(1,11):\n",
    "    plt.subplot(5, 3, i)\n",
    "    plt.tight_layout()\n",
    "    sns.boxplot(select_df[select_df.columns[i]])"
   ]
  },
  {
   "cell_type": "code",
   "execution_count": 20,
   "id": "92325843",
   "metadata": {},
   "outputs": [
    {
     "name": "stdout",
     "output_type": "stream",
     "text": [
      "<class 'pandas.core.frame.DataFrame'>\n",
      "Int64Index: 730 entries, 0 to 729\n",
      "Data columns (total 12 columns):\n",
      " #   Column      Non-Null Count  Dtype  \n",
      "---  ------      --------------  -----  \n",
      " 0   season      730 non-null    int64  \n",
      " 1   yr          730 non-null    int64  \n",
      " 2   mnth        730 non-null    int64  \n",
      " 3   holiday     730 non-null    int64  \n",
      " 4   weekday     730 non-null    int64  \n",
      " 5   workingday  730 non-null    int64  \n",
      " 6   weathersit  730 non-null    int64  \n",
      " 7   temp        730 non-null    float64\n",
      " 8   atemp       730 non-null    float64\n",
      " 9   hum         730 non-null    float64\n",
      " 10  windspeed   730 non-null    float64\n",
      " 11  cnt         730 non-null    int64  \n",
      "dtypes: float64(4), int64(8)\n",
      "memory usage: 74.1 KB\n"
     ]
    }
   ],
   "source": [
    "df.info()             # checking for variables that should be categorical instead of numericals"
   ]
  },
  {
   "cell_type": "code",
   "execution_count": 21,
   "id": "c5da5b3d",
   "metadata": {},
   "outputs": [
    {
     "data": {
      "text/plain": [
       "3    188\n",
       "2    184\n",
       "1    180\n",
       "4    178\n",
       "Name: season, dtype: int64"
      ]
     },
     "execution_count": 21,
     "metadata": {},
     "output_type": "execute_result"
    }
   ],
   "source": [
    "df.season.value_counts()    # season variable should be categorical or non-numerical category instead of numerical"
   ]
  },
  {
   "cell_type": "code",
   "execution_count": 22,
   "id": "ecab6496",
   "metadata": {},
   "outputs": [
    {
     "data": {
      "text/plain": [
       "1    463\n",
       "2    246\n",
       "3     21\n",
       "Name: weathersit, dtype: int64"
      ]
     },
     "execution_count": 22,
     "metadata": {},
     "output_type": "execute_result"
    }
   ],
   "source": [
    "df.weathersit.value_counts()    # weathersit variable should be categorical instead of being numerical"
   ]
  },
  {
   "cell_type": "code",
   "execution_count": 23,
   "id": "dfa0281d",
   "metadata": {},
   "outputs": [
    {
     "data": {
      "text/plain": [
       "1     62\n",
       "3     62\n",
       "5     62\n",
       "7     62\n",
       "8     62\n",
       "10    62\n",
       "12    62\n",
       "4     60\n",
       "6     60\n",
       "9     60\n",
       "11    60\n",
       "2     56\n",
       "Name: mnth, dtype: int64"
      ]
     },
     "execution_count": 23,
     "metadata": {},
     "output_type": "execute_result"
    }
   ],
   "source": [
    "df.mnth.value_counts()         # mnth variable should be non-numerical category instead of being numerical"
   ]
  },
  {
   "cell_type": "code",
   "execution_count": 24,
   "id": "a72e3efe",
   "metadata": {},
   "outputs": [
    {
     "data": {
      "text/plain": [
       "0    105\n",
       "1    105\n",
       "6    105\n",
       "2    104\n",
       "4    104\n",
       "5    104\n",
       "3    103\n",
       "Name: weekday, dtype: int64"
      ]
     },
     "execution_count": 24,
     "metadata": {},
     "output_type": "execute_result"
    }
   ],
   "source": [
    "df.weekday.value_counts()    # weekday variable should be non-numerical category instead of being numerical"
   ]
  },
  {
   "cell_type": "code",
   "execution_count": 25,
   "id": "2608e7e7",
   "metadata": {},
   "outputs": [],
   "source": [
    "# Converting the numerical variables described above into categorical variables\n",
    "season_map = {1:'Spring', 2:'Summer', 3:'Fall', 4:'Winter'}  # converting season attribute or variable to categorical\n",
    "df['season'] = df['season'].map(season_map)\n",
    "\n",
    "weathersit_map = {1:'Clear_FewClouds', 2:'Mist_Cloudy', 3:'LightRain_LightSnow_Thunderstorm', 4:'HeavyRain_IcePallets_Thunderstorm_Mist'}\n",
    "df['weathersit'] = df['weathersit'].map(weathersit_map) # converting weathersit variable to categorical\n",
    "\n",
    "mnth_map = {1:'Jan', 2:'Feb', 3:'Mar', 4:'Apr', 5:'May', 6:'Jun', 7:'Jul', 8:'Aug', 9:'Sept', 10:'Oct', 11:'Nov', 12:'Dec'}\n",
    "df['mnth'] = df['mnth'].map(mnth_map)         # converting mnth variable to categorical\n",
    "\n",
    "weekday_map = {0:'Sun', 1:'Mon', 2:'Tues', 3:'Wed', 4:'Thur', 5:'Fri', 6:'Sat'}\n",
    "df['weekday'] = df['weekday'].map(weekday_map)         # converting weekday variable to categorical\n"
   ]
  },
  {
   "cell_type": "code",
   "execution_count": 26,
   "id": "4761a6ba",
   "metadata": {
    "scrolled": true
   },
   "outputs": [
    {
     "data": {
      "text/html": [
       "<div>\n",
       "<style scoped>\n",
       "    .dataframe tbody tr th:only-of-type {\n",
       "        vertical-align: middle;\n",
       "    }\n",
       "\n",
       "    .dataframe tbody tr th {\n",
       "        vertical-align: top;\n",
       "    }\n",
       "\n",
       "    .dataframe thead th {\n",
       "        text-align: right;\n",
       "    }\n",
       "</style>\n",
       "<table border=\"1\" class=\"dataframe\">\n",
       "  <thead>\n",
       "    <tr style=\"text-align: right;\">\n",
       "      <th></th>\n",
       "      <th>season</th>\n",
       "      <th>yr</th>\n",
       "      <th>mnth</th>\n",
       "      <th>holiday</th>\n",
       "      <th>weekday</th>\n",
       "      <th>workingday</th>\n",
       "      <th>weathersit</th>\n",
       "      <th>temp</th>\n",
       "      <th>atemp</th>\n",
       "      <th>hum</th>\n",
       "      <th>windspeed</th>\n",
       "      <th>cnt</th>\n",
       "    </tr>\n",
       "  </thead>\n",
       "  <tbody>\n",
       "    <tr>\n",
       "      <th>0</th>\n",
       "      <td>Spring</td>\n",
       "      <td>0</td>\n",
       "      <td>Jan</td>\n",
       "      <td>0</td>\n",
       "      <td>Sat</td>\n",
       "      <td>0</td>\n",
       "      <td>Mist_Cloudy</td>\n",
       "      <td>14.110847</td>\n",
       "      <td>18.18125</td>\n",
       "      <td>62.6250</td>\n",
       "      <td>10.749882</td>\n",
       "      <td>985</td>\n",
       "    </tr>\n",
       "    <tr>\n",
       "      <th>1</th>\n",
       "      <td>Spring</td>\n",
       "      <td>0</td>\n",
       "      <td>Jan</td>\n",
       "      <td>0</td>\n",
       "      <td>Sun</td>\n",
       "      <td>0</td>\n",
       "      <td>Mist_Cloudy</td>\n",
       "      <td>14.902598</td>\n",
       "      <td>17.68695</td>\n",
       "      <td>62.6250</td>\n",
       "      <td>16.652113</td>\n",
       "      <td>801</td>\n",
       "    </tr>\n",
       "    <tr>\n",
       "      <th>2</th>\n",
       "      <td>Spring</td>\n",
       "      <td>0</td>\n",
       "      <td>Jan</td>\n",
       "      <td>0</td>\n",
       "      <td>Mon</td>\n",
       "      <td>1</td>\n",
       "      <td>Clear_FewClouds</td>\n",
       "      <td>8.050924</td>\n",
       "      <td>9.47025</td>\n",
       "      <td>43.7273</td>\n",
       "      <td>16.636703</td>\n",
       "      <td>1349</td>\n",
       "    </tr>\n",
       "    <tr>\n",
       "      <th>3</th>\n",
       "      <td>Spring</td>\n",
       "      <td>0</td>\n",
       "      <td>Jan</td>\n",
       "      <td>0</td>\n",
       "      <td>Tues</td>\n",
       "      <td>1</td>\n",
       "      <td>Clear_FewClouds</td>\n",
       "      <td>8.200000</td>\n",
       "      <td>10.60610</td>\n",
       "      <td>62.6250</td>\n",
       "      <td>10.739832</td>\n",
       "      <td>1562</td>\n",
       "    </tr>\n",
       "    <tr>\n",
       "      <th>4</th>\n",
       "      <td>Spring</td>\n",
       "      <td>0</td>\n",
       "      <td>Jan</td>\n",
       "      <td>0</td>\n",
       "      <td>Wed</td>\n",
       "      <td>1</td>\n",
       "      <td>Clear_FewClouds</td>\n",
       "      <td>9.305237</td>\n",
       "      <td>11.46350</td>\n",
       "      <td>43.6957</td>\n",
       "      <td>12.522300</td>\n",
       "      <td>1600</td>\n",
       "    </tr>\n",
       "  </tbody>\n",
       "</table>\n",
       "</div>"
      ],
      "text/plain": [
       "   season  yr mnth  holiday weekday  workingday       weathersit       temp  \\\n",
       "0  Spring   0  Jan        0     Sat           0      Mist_Cloudy  14.110847   \n",
       "1  Spring   0  Jan        0     Sun           0      Mist_Cloudy  14.902598   \n",
       "2  Spring   0  Jan        0     Mon           1  Clear_FewClouds   8.050924   \n",
       "3  Spring   0  Jan        0    Tues           1  Clear_FewClouds   8.200000   \n",
       "4  Spring   0  Jan        0     Wed           1  Clear_FewClouds   9.305237   \n",
       "\n",
       "      atemp      hum  windspeed   cnt  \n",
       "0  18.18125  62.6250  10.749882   985  \n",
       "1  17.68695  62.6250  16.652113   801  \n",
       "2   9.47025  43.7273  16.636703  1349  \n",
       "3  10.60610  62.6250  10.739832  1562  \n",
       "4  11.46350  43.6957  12.522300  1600  "
      ]
     },
     "execution_count": 26,
     "metadata": {},
     "output_type": "execute_result"
    }
   ],
   "source": [
    "df.head()    # displaying the dataframe after completing all required preprocess or data cleaning steps"
   ]
  },
  {
   "cell_type": "markdown",
   "id": "f92fc673",
   "metadata": {},
   "source": [
    "#### Observation acquired by preprocessing the data:"
   ]
  },
  {
   "cell_type": "markdown",
   "id": "0ab020f6",
   "metadata": {},
   "source": [
    "- It is acknowledged that there is no null and duplicate values in the data uploaded the module\n",
    "- Unwanted columns were dropped from the dataset\n",
    "- There were some numerical columns which should non-numerical or categorical\n",
    "- Those numerical columns were converted to non-numerical or categorical columns"
   ]
  },
  {
   "cell_type": "markdown",
   "id": "63ae207b",
   "metadata": {},
   "source": [
    "### Exploratory Data Analysis"
   ]
  },
  {
   "cell_type": "code",
   "execution_count": 27,
   "id": "2d0ddbda",
   "metadata": {},
   "outputs": [
    {
     "data": {
      "text/plain": [
       "<Figure size 1440x2160 with 0 Axes>"
      ]
     },
     "metadata": {},
     "output_type": "display_data"
    },
    {
     "data": {
      "image/png": "[encoded data removed]",
      "text/plain": [
       "<Figure size 900x900 with 30 Axes>"
      ]
     },
     "metadata": {
      "needs_background": "light"
     },
     "output_type": "display_data"
    }
   ],
   "source": [
    "# checking for linear relationships\n",
    "plt.figure(figsize = (20,30))                # for numerical variable pairplot is created\n",
    "sns.pairplot(data = df, vars = ['temp', 'atemp', 'hum', 'windspeed', 'cnt'])\n",
    "plt.show()"
   ]
  },
  {
   "cell_type": "code",
   "execution_count": 28,
   "id": "7c230026",
   "metadata": {},
   "outputs": [
    {
     "data": {
      "image/png": "[encoded data removed]",
      "text/plain": [
       "<Figure size 720x432 with 2 Axes>"
      ]
     },
     "metadata": {
      "needs_background": "light"
     },
     "output_type": "display_data"
    }
   ],
   "source": [
    "plt.figure(figsize = (10,6))     # using heatmap checking the correlation among numerical variables\n",
    "sns.heatmap(df[['temp', 'atemp', 'hum', 'windspeed', 'cnt']].corr(), annot = True)\n",
    "plt.show()"
   ]
  },
  {
   "cell_type": "code",
   "execution_count": 29,
   "id": "60fede98",
   "metadata": {},
   "outputs": [
    {
     "data": {
      "image/png": "[encoded data removed]",
      "text/plain": [
       "<Figure size 720x432 with 2 Axes>"
      ]
     },
     "metadata": {
      "needs_background": "light"
     },
     "output_type": "display_data"
    }
   ],
   "source": [
    "plt.figure(figsize = (10,6))    # using heatmap and corr function checking the correlation among numerical variables\n",
    "sns.heatmap(df.corr(), annot = True)\n",
    "plt.show()"
   ]
  },
  {
   "cell_type": "code",
   "execution_count": 30,
   "id": "e89e2eac",
   "metadata": {
    "scrolled": true
   },
   "outputs": [
    {
     "data": {
      "image/png": "[encoded data removed]",
      "text/plain": [
       "<Figure size 1440x1080 with 2 Axes>"
      ]
     },
     "metadata": {
      "needs_background": "light"
     },
     "output_type": "display_data"
    }
   ],
   "source": [
    "plt.figure(figsize = (20,15))   # using heatmap checking the correlation among all the variables present in the data\n",
    "sns.heatmap(df.corr(), annot = True)\n",
    "plt.show()"
   ]
  },
  {
   "cell_type": "markdown",
   "id": "e25512ec",
   "metadata": {},
   "source": [
    "#### Observation acquired by analyzing the data using Exporatory Data Analysis technique:"
   ]
  },
  {
   "cell_type": "markdown",
   "id": "f320c421",
   "metadata": {},
   "source": [
    "- There is a linear and high correleation between the column like temp and atemp.\n",
    "- From the graph it is acknowledged that the target variable 'cnt' has high correlation with temp and atemp variables.\n",
    "- Heatmap stated ablove describes us that the correlation between temp and atemp is 0.99 which indicates that they       both are highly correlated.\n",
    "- This may be because that atemp variable might is derived from temp which is why they are highly correlated.\n",
    "- Therefore, as atemp and temp is hihly correlated atemp column is dropped from the dataframe."
   ]
  },
  {
   "cell_type": "markdown",
   "id": "8696268f",
   "metadata": {},
   "source": [
    "### Visualization"
   ]
  },
  {
   "cell_type": "code",
   "execution_count": 31,
   "id": "2ef6b12e",
   "metadata": {},
   "outputs": [
    {
     "data": {
      "image/png": "[encoded data removed]",
      "text/plain": [
       "<Figure size 2160x1440 with 6 Axes>"
      ]
     },
     "metadata": {
      "needs_background": "light"
     },
     "output_type": "display_data"
    }
   ],
   "source": [
    "# visualizing categorical variables with target variables\n",
    "plt.figure(figsize=(30,20))\n",
    "\n",
    "plt.subplot(2,3,1)\n",
    "sns.boxplot(x='workingday', y='cnt', data = df)   # making boxplots for the workingday categorical variables \n",
    "\n",
    "plt.subplot(2,3,2)\n",
    "sns.boxplot(x='holiday', y='cnt', data = df)      # making boxplots for the holiday categorical variables\n",
    "\n",
    "plt.subplot(2,3,3)\n",
    "sns.boxplot(x='weathersit', y='cnt', data = df)   # making boxplots for the weathersit categorical variables\n",
    "\n",
    "plt.subplot(2,3,4)\n",
    "sns.boxplot(x='weekday', y='cnt', data = df)      # making boxplots for the weekday categorical variables\n",
    "\n",
    "plt.subplot(2,3,5)\n",
    "sns.boxplot(x='mnth', y='cnt', data = df)         # making boxplots for the mnth categorical variables\n",
    "\n",
    "plt.subplot(2,3,6)\n",
    "sns.boxplot(x='season', y='cnt', data = df)       # making boxplots for the season categorical variables\n",
    "\n",
    "plt.show()"
   ]
  },
  {
   "cell_type": "code",
   "execution_count": 32,
   "id": "153e87bb",
   "metadata": {
    "scrolled": true
   },
   "outputs": [
    {
     "data": {
      "image/png": "[encoded data removed]",
      "text/plain": [
       "<Figure size 360x360 with 1 Axes>"
      ]
     },
     "metadata": {
      "needs_background": "light"
     },
     "output_type": "display_data"
    },
    {
     "data": {
      "image/png": "[encoded data removed]",
      "text/plain": [
       "<Figure size 360x360 with 1 Axes>"
      ]
     },
     "metadata": {
      "needs_background": "light"
     },
     "output_type": "display_data"
    },
    {
     "data": {
      "image/png": "[encoded data removed]",
      "text/plain": [
       "<Figure size 360x360 with 1 Axes>"
      ]
     },
     "metadata": {
      "needs_background": "light"
     },
     "output_type": "display_data"
    }
   ],
   "source": [
    "# visualizing numerical variables with target variables using regplot\n",
    "plt.figure(figsize=(5,5))    \n",
    "plt.title('cnt vs temp')                 # visualizing temp numerical variable with target variable\n",
    "sns.regplot(data=df, y='cnt', x='temp')\n",
    "plt.xlabel('Temperature')\n",
    "plt.show()\n",
    "\n",
    "plt.figure(figsize=(5,5))\n",
    "plt.title('cnt vs hum')                  # visualizing hum numerical variable with target variable\n",
    "sns.regplot(data=df, y='cnt', x='hum')\n",
    "plt.xlabel('Humidity')\n",
    "plt.show()\n",
    "\n",
    "plt.figure(figsize=(5,5))\n",
    "plt.title('cnt vs windspeed')            # visualizing windspeed numerical variable with target variable\n",
    "sns.regplot(data=df, y='cnt', x='windspeed')\n",
    "plt.xlabel('Windspeed')\n",
    "plt.show()\n"
   ]
  },
  {
   "cell_type": "markdown",
   "id": "0b6b062f",
   "metadata": {},
   "source": [
    "#### Observation acquired by visualizing the data:"
   ]
  },
  {
   "cell_type": "markdown",
   "id": "d5bfcdf3",
   "metadata": {},
   "source": [
    "- By creating the box plot graph for categorical variables it is acknowledged that there is a gradual increase and       decrease in the demand.\n",
    "- From the first and fourth plot that is for the variable 'workingday' and 'weathersit' we don't see any significant     insights from the graph.\n",
    "- From the second plot for variable 'holiday' the demand has decreased as there is a holiday.\n",
    "- From the third plot that is for the variable 'weathersit' it is acknowleded that the demand has increased during         'Clear_Few clouds'and 'Partly cloudy' weather.\n",
    "- From the fifth plot that is for the variable 'mnth' it is acknowledged that the demand is continuously increasing       till the month of june and after september the demand is decreasing.\n",
    "- This also shows us that the maximum demand or booking happens during the month of september.\n",
    "- From the sixth plot that is for the variable 'season' it is acknowledged that maximum booking happens during the       'fall season'.\n",
    "- By visualizing temp numerical variable with target variable it is acknowledged that there is a linear relation         betweek the variable temp and target variable cnt and Demand is positively correlated to the variable temp.\n",
    "- By visualizing hum numerical variable with target variable it is acknowledged that the values are more scattered and   cnt is decreasing with increase in humidity.\n",
    "- By visualizing windspeed numerical variable with target variable it is acknowledged that the values are more           scattered and cnt is decreasing with increase in windspeed"
   ]
  },
  {
   "cell_type": "markdown",
   "id": "0b3beadc",
   "metadata": {},
   "source": [
    "### Data Preparation"
   ]
  },
  {
   "cell_type": "code",
   "execution_count": 33,
   "id": "ea257738",
   "metadata": {},
   "outputs": [],
   "source": [
    "# creating dummy variables for categorical variables\n",
    "# mnth, season, weathersit, weekday are the four categorical variables for which dummy variables are created\n",
    "\n",
    "df = pd.get_dummies(data=df,columns=['season','mnth','weekday','weathersit'],drop_first = True)"
   ]
  },
  {
   "cell_type": "code",
   "execution_count": 34,
   "id": "da99bc7f",
   "metadata": {},
   "outputs": [
    {
     "data": {
      "text/plain": [
       "Index(['yr', 'holiday', 'workingday', 'temp', 'atemp', 'hum', 'windspeed',\n",
       "       'cnt', 'season_Spring', 'season_Summer', 'season_Winter', 'mnth_Aug',\n",
       "       'mnth_Dec', 'mnth_Feb', 'mnth_Jan', 'mnth_Jul', 'mnth_Jun', 'mnth_Mar',\n",
       "       'mnth_May', 'mnth_Nov', 'mnth_Oct', 'mnth_Sept', 'weekday_Mon',\n",
       "       'weekday_Sat', 'weekday_Sun', 'weekday_Thur', 'weekday_Tues',\n",
       "       'weekday_Wed', 'weathersit_LightRain_LightSnow_Thunderstorm',\n",
       "       'weathersit_Mist_Cloudy'],\n",
       "      dtype='object')"
      ]
     },
     "execution_count": 34,
     "metadata": {},
     "output_type": "execute_result"
    }
   ],
   "source": [
    "df.columns      # displaying list of columns present in dataframe after creating dummy variables"
   ]
  },
  {
   "cell_type": "code",
   "execution_count": 35,
   "id": "72304b3b",
   "metadata": {},
   "outputs": [
    {
     "data": {
      "text/html": [
       "<div>\n",
       "<style scoped>\n",
       "    .dataframe tbody tr th:only-of-type {\n",
       "        vertical-align: middle;\n",
       "    }\n",
       "\n",
       "    .dataframe tbody tr th {\n",
       "        vertical-align: top;\n",
       "    }\n",
       "\n",
       "    .dataframe thead th {\n",
       "        text-align: right;\n",
       "    }\n",
       "</style>\n",
       "<table border=\"1\" class=\"dataframe\">\n",
       "  <thead>\n",
       "    <tr style=\"text-align: right;\">\n",
       "      <th></th>\n",
       "      <th>yr</th>\n",
       "      <th>holiday</th>\n",
       "      <th>workingday</th>\n",
       "      <th>temp</th>\n",
       "      <th>atemp</th>\n",
       "      <th>hum</th>\n",
       "      <th>windspeed</th>\n",
       "      <th>cnt</th>\n",
       "      <th>season_Spring</th>\n",
       "      <th>season_Summer</th>\n",
       "      <th>season_Winter</th>\n",
       "      <th>mnth_Aug</th>\n",
       "      <th>mnth_Dec</th>\n",
       "      <th>mnth_Feb</th>\n",
       "      <th>mnth_Jan</th>\n",
       "      <th>mnth_Jul</th>\n",
       "      <th>mnth_Jun</th>\n",
       "      <th>mnth_Mar</th>\n",
       "      <th>mnth_May</th>\n",
       "      <th>mnth_Nov</th>\n",
       "      <th>mnth_Oct</th>\n",
       "      <th>mnth_Sept</th>\n",
       "      <th>weekday_Mon</th>\n",
       "      <th>weekday_Sat</th>\n",
       "      <th>weekday_Sun</th>\n",
       "      <th>weekday_Thur</th>\n",
       "      <th>weekday_Tues</th>\n",
       "      <th>weekday_Wed</th>\n",
       "      <th>weathersit_LightRain_LightSnow_Thunderstorm</th>\n",
       "      <th>weathersit_Mist_Cloudy</th>\n",
       "    </tr>\n",
       "  </thead>\n",
       "  <tbody>\n",
       "    <tr>\n",
       "      <th>0</th>\n",
       "      <td>0</td>\n",
       "      <td>0</td>\n",
       "      <td>0</td>\n",
       "      <td>14.110847</td>\n",
       "      <td>18.18125</td>\n",
       "      <td>62.6250</td>\n",
       "      <td>10.749882</td>\n",
       "      <td>985</td>\n",
       "      <td>1</td>\n",
       "      <td>0</td>\n",
       "      <td>0</td>\n",
       "      <td>0</td>\n",
       "      <td>0</td>\n",
       "      <td>0</td>\n",
       "      <td>1</td>\n",
       "      <td>0</td>\n",
       "      <td>0</td>\n",
       "      <td>0</td>\n",
       "      <td>0</td>\n",
       "      <td>0</td>\n",
       "      <td>0</td>\n",
       "      <td>0</td>\n",
       "      <td>0</td>\n",
       "      <td>1</td>\n",
       "      <td>0</td>\n",
       "      <td>0</td>\n",
       "      <td>0</td>\n",
       "      <td>0</td>\n",
       "      <td>0</td>\n",
       "      <td>1</td>\n",
       "    </tr>\n",
       "    <tr>\n",
       "      <th>1</th>\n",
       "      <td>0</td>\n",
       "      <td>0</td>\n",
       "      <td>0</td>\n",
       "      <td>14.902598</td>\n",
       "      <td>17.68695</td>\n",
       "      <td>62.6250</td>\n",
       "      <td>16.652113</td>\n",
       "      <td>801</td>\n",
       "      <td>1</td>\n",
       "      <td>0</td>\n",
       "      <td>0</td>\n",
       "      <td>0</td>\n",
       "      <td>0</td>\n",
       "      <td>0</td>\n",
       "      <td>1</td>\n",
       "      <td>0</td>\n",
       "      <td>0</td>\n",
       "      <td>0</td>\n",
       "      <td>0</td>\n",
       "      <td>0</td>\n",
       "      <td>0</td>\n",
       "      <td>0</td>\n",
       "      <td>0</td>\n",
       "      <td>0</td>\n",
       "      <td>1</td>\n",
       "      <td>0</td>\n",
       "      <td>0</td>\n",
       "      <td>0</td>\n",
       "      <td>0</td>\n",
       "      <td>1</td>\n",
       "    </tr>\n",
       "    <tr>\n",
       "      <th>2</th>\n",
       "      <td>0</td>\n",
       "      <td>0</td>\n",
       "      <td>1</td>\n",
       "      <td>8.050924</td>\n",
       "      <td>9.47025</td>\n",
       "      <td>43.7273</td>\n",
       "      <td>16.636703</td>\n",
       "      <td>1349</td>\n",
       "      <td>1</td>\n",
       "      <td>0</td>\n",
       "      <td>0</td>\n",
       "      <td>0</td>\n",
       "      <td>0</td>\n",
       "      <td>0</td>\n",
       "      <td>1</td>\n",
       "      <td>0</td>\n",
       "      <td>0</td>\n",
       "      <td>0</td>\n",
       "      <td>0</td>\n",
       "      <td>0</td>\n",
       "      <td>0</td>\n",
       "      <td>0</td>\n",
       "      <td>1</td>\n",
       "      <td>0</td>\n",
       "      <td>0</td>\n",
       "      <td>0</td>\n",
       "      <td>0</td>\n",
       "      <td>0</td>\n",
       "      <td>0</td>\n",
       "      <td>0</td>\n",
       "    </tr>\n",
       "    <tr>\n",
       "      <th>3</th>\n",
       "      <td>0</td>\n",
       "      <td>0</td>\n",
       "      <td>1</td>\n",
       "      <td>8.200000</td>\n",
       "      <td>10.60610</td>\n",
       "      <td>62.6250</td>\n",
       "      <td>10.739832</td>\n",
       "      <td>1562</td>\n",
       "      <td>1</td>\n",
       "      <td>0</td>\n",
       "      <td>0</td>\n",
       "      <td>0</td>\n",
       "      <td>0</td>\n",
       "      <td>0</td>\n",
       "      <td>1</td>\n",
       "      <td>0</td>\n",
       "      <td>0</td>\n",
       "      <td>0</td>\n",
       "      <td>0</td>\n",
       "      <td>0</td>\n",
       "      <td>0</td>\n",
       "      <td>0</td>\n",
       "      <td>0</td>\n",
       "      <td>0</td>\n",
       "      <td>0</td>\n",
       "      <td>0</td>\n",
       "      <td>1</td>\n",
       "      <td>0</td>\n",
       "      <td>0</td>\n",
       "      <td>0</td>\n",
       "    </tr>\n",
       "    <tr>\n",
       "      <th>4</th>\n",
       "      <td>0</td>\n",
       "      <td>0</td>\n",
       "      <td>1</td>\n",
       "      <td>9.305237</td>\n",
       "      <td>11.46350</td>\n",
       "      <td>43.6957</td>\n",
       "      <td>12.522300</td>\n",
       "      <td>1600</td>\n",
       "      <td>1</td>\n",
       "      <td>0</td>\n",
       "      <td>0</td>\n",
       "      <td>0</td>\n",
       "      <td>0</td>\n",
       "      <td>0</td>\n",
       "      <td>1</td>\n",
       "      <td>0</td>\n",
       "      <td>0</td>\n",
       "      <td>0</td>\n",
       "      <td>0</td>\n",
       "      <td>0</td>\n",
       "      <td>0</td>\n",
       "      <td>0</td>\n",
       "      <td>0</td>\n",
       "      <td>0</td>\n",
       "      <td>0</td>\n",
       "      <td>0</td>\n",
       "      <td>0</td>\n",
       "      <td>1</td>\n",
       "      <td>0</td>\n",
       "      <td>0</td>\n",
       "    </tr>\n",
       "  </tbody>\n",
       "</table>\n",
       "</div>"
      ],
      "text/plain": [
       "   yr  holiday  workingday       temp     atemp      hum  windspeed   cnt  \\\n",
       "0   0        0           0  14.110847  18.18125  62.6250  10.749882   985   \n",
       "1   0        0           0  14.902598  17.68695  62.6250  16.652113   801   \n",
       "2   0        0           1   8.050924   9.47025  43.7273  16.636703  1349   \n",
       "3   0        0           1   8.200000  10.60610  62.6250  10.739832  1562   \n",
       "4   0        0           1   9.305237  11.46350  43.6957  12.522300  1600   \n",
       "\n",
       "   season_Spring  season_Summer  season_Winter  mnth_Aug  mnth_Dec  mnth_Feb  \\\n",
       "0              1              0              0         0         0         0   \n",
       "1              1              0              0         0         0         0   \n",
       "2              1              0              0         0         0         0   \n",
       "3              1              0              0         0         0         0   \n",
       "4              1              0              0         0         0         0   \n",
       "\n",
       "   mnth_Jan  mnth_Jul  mnth_Jun  mnth_Mar  mnth_May  mnth_Nov  mnth_Oct  \\\n",
       "0         1         0         0         0         0         0         0   \n",
       "1         1         0         0         0         0         0         0   \n",
       "2         1         0         0         0         0         0         0   \n",
       "3         1         0         0         0         0         0         0   \n",
       "4         1         0         0         0         0         0         0   \n",
       "\n",
       "   mnth_Sept  weekday_Mon  weekday_Sat  weekday_Sun  weekday_Thur  \\\n",
       "0          0            0            1            0             0   \n",
       "1          0            0            0            1             0   \n",
       "2          0            1            0            0             0   \n",
       "3          0            0            0            0             0   \n",
       "4          0            0            0            0             0   \n",
       "\n",
       "   weekday_Tues  weekday_Wed  weathersit_LightRain_LightSnow_Thunderstorm  \\\n",
       "0             0            0                                            0   \n",
       "1             0            0                                            0   \n",
       "2             0            0                                            0   \n",
       "3             1            0                                            0   \n",
       "4             0            1                                            0   \n",
       "\n",
       "   weathersit_Mist_Cloudy  \n",
       "0                       1  \n",
       "1                       1  \n",
       "2                       0  \n",
       "3                       0  \n",
       "4                       0  "
      ]
     },
     "execution_count": 35,
     "metadata": {},
     "output_type": "execute_result"
    }
   ],
   "source": [
    "df.head()     # displaying the dataframe after the process of data preparation"
   ]
  },
  {
   "cell_type": "markdown",
   "id": "36c5c9f5",
   "metadata": {},
   "source": [
    "### Splittling of Data "
   ]
  },
  {
   "cell_type": "code",
   "execution_count": 36,
   "id": "f7db05a6",
   "metadata": {},
   "outputs": [
    {
     "data": {
      "text/plain": [
       "(730, 30)"
      ]
     },
     "execution_count": 36,
     "metadata": {},
     "output_type": "execute_result"
    }
   ],
   "source": [
    "df.shape  # shape of the dataframe before splitting the data"
   ]
  },
  {
   "cell_type": "code",
   "execution_count": 37,
   "id": "629b2617",
   "metadata": {},
   "outputs": [],
   "source": [
    "y = df['cnt']      # Y is considered as a target variable\n",
    "X = df.drop(['cnt'], axis = 1)    # X is considered as a independent variable"
   ]
  },
  {
   "cell_type": "code",
   "execution_count": 38,
   "id": "3d8367eb",
   "metadata": {},
   "outputs": [
    {
     "data": {
      "text/html": [
       "<div>\n",
       "<style scoped>\n",
       "    .dataframe tbody tr th:only-of-type {\n",
       "        vertical-align: middle;\n",
       "    }\n",
       "\n",
       "    .dataframe tbody tr th {\n",
       "        vertical-align: top;\n",
       "    }\n",
       "\n",
       "    .dataframe thead th {\n",
       "        text-align: right;\n",
       "    }\n",
       "</style>\n",
       "<table border=\"1\" class=\"dataframe\">\n",
       "  <thead>\n",
       "    <tr style=\"text-align: right;\">\n",
       "      <th></th>\n",
       "      <th>yr</th>\n",
       "      <th>holiday</th>\n",
       "      <th>workingday</th>\n",
       "      <th>temp</th>\n",
       "      <th>atemp</th>\n",
       "      <th>hum</th>\n",
       "      <th>windspeed</th>\n",
       "      <th>season_Spring</th>\n",
       "      <th>season_Summer</th>\n",
       "      <th>season_Winter</th>\n",
       "      <th>mnth_Aug</th>\n",
       "      <th>mnth_Dec</th>\n",
       "      <th>mnth_Feb</th>\n",
       "      <th>mnth_Jan</th>\n",
       "      <th>mnth_Jul</th>\n",
       "      <th>mnth_Jun</th>\n",
       "      <th>mnth_Mar</th>\n",
       "      <th>mnth_May</th>\n",
       "      <th>mnth_Nov</th>\n",
       "      <th>mnth_Oct</th>\n",
       "      <th>mnth_Sept</th>\n",
       "      <th>weekday_Mon</th>\n",
       "      <th>weekday_Sat</th>\n",
       "      <th>weekday_Sun</th>\n",
       "      <th>weekday_Thur</th>\n",
       "      <th>weekday_Tues</th>\n",
       "      <th>weekday_Wed</th>\n",
       "      <th>weathersit_LightRain_LightSnow_Thunderstorm</th>\n",
       "      <th>weathersit_Mist_Cloudy</th>\n",
       "    </tr>\n",
       "  </thead>\n",
       "  <tbody>\n",
       "    <tr>\n",
       "      <th>0</th>\n",
       "      <td>0</td>\n",
       "      <td>0</td>\n",
       "      <td>0</td>\n",
       "      <td>14.110847</td>\n",
       "      <td>18.18125</td>\n",
       "      <td>62.6250</td>\n",
       "      <td>10.749882</td>\n",
       "      <td>1</td>\n",
       "      <td>0</td>\n",
       "      <td>0</td>\n",
       "      <td>0</td>\n",
       "      <td>0</td>\n",
       "      <td>0</td>\n",
       "      <td>1</td>\n",
       "      <td>0</td>\n",
       "      <td>0</td>\n",
       "      <td>0</td>\n",
       "      <td>0</td>\n",
       "      <td>0</td>\n",
       "      <td>0</td>\n",
       "      <td>0</td>\n",
       "      <td>0</td>\n",
       "      <td>1</td>\n",
       "      <td>0</td>\n",
       "      <td>0</td>\n",
       "      <td>0</td>\n",
       "      <td>0</td>\n",
       "      <td>0</td>\n",
       "      <td>1</td>\n",
       "    </tr>\n",
       "    <tr>\n",
       "      <th>1</th>\n",
       "      <td>0</td>\n",
       "      <td>0</td>\n",
       "      <td>0</td>\n",
       "      <td>14.902598</td>\n",
       "      <td>17.68695</td>\n",
       "      <td>62.6250</td>\n",
       "      <td>16.652113</td>\n",
       "      <td>1</td>\n",
       "      <td>0</td>\n",
       "      <td>0</td>\n",
       "      <td>0</td>\n",
       "      <td>0</td>\n",
       "      <td>0</td>\n",
       "      <td>1</td>\n",
       "      <td>0</td>\n",
       "      <td>0</td>\n",
       "      <td>0</td>\n",
       "      <td>0</td>\n",
       "      <td>0</td>\n",
       "      <td>0</td>\n",
       "      <td>0</td>\n",
       "      <td>0</td>\n",
       "      <td>0</td>\n",
       "      <td>1</td>\n",
       "      <td>0</td>\n",
       "      <td>0</td>\n",
       "      <td>0</td>\n",
       "      <td>0</td>\n",
       "      <td>1</td>\n",
       "    </tr>\n",
       "    <tr>\n",
       "      <th>2</th>\n",
       "      <td>0</td>\n",
       "      <td>0</td>\n",
       "      <td>1</td>\n",
       "      <td>8.050924</td>\n",
       "      <td>9.47025</td>\n",
       "      <td>43.7273</td>\n",
       "      <td>16.636703</td>\n",
       "      <td>1</td>\n",
       "      <td>0</td>\n",
       "      <td>0</td>\n",
       "      <td>0</td>\n",
       "      <td>0</td>\n",
       "      <td>0</td>\n",
       "      <td>1</td>\n",
       "      <td>0</td>\n",
       "      <td>0</td>\n",
       "      <td>0</td>\n",
       "      <td>0</td>\n",
       "      <td>0</td>\n",
       "      <td>0</td>\n",
       "      <td>0</td>\n",
       "      <td>1</td>\n",
       "      <td>0</td>\n",
       "      <td>0</td>\n",
       "      <td>0</td>\n",
       "      <td>0</td>\n",
       "      <td>0</td>\n",
       "      <td>0</td>\n",
       "      <td>0</td>\n",
       "    </tr>\n",
       "    <tr>\n",
       "      <th>3</th>\n",
       "      <td>0</td>\n",
       "      <td>0</td>\n",
       "      <td>1</td>\n",
       "      <td>8.200000</td>\n",
       "      <td>10.60610</td>\n",
       "      <td>62.6250</td>\n",
       "      <td>10.739832</td>\n",
       "      <td>1</td>\n",
       "      <td>0</td>\n",
       "      <td>0</td>\n",
       "      <td>0</td>\n",
       "      <td>0</td>\n",
       "      <td>0</td>\n",
       "      <td>1</td>\n",
       "      <td>0</td>\n",
       "      <td>0</td>\n",
       "      <td>0</td>\n",
       "      <td>0</td>\n",
       "      <td>0</td>\n",
       "      <td>0</td>\n",
       "      <td>0</td>\n",
       "      <td>0</td>\n",
       "      <td>0</td>\n",
       "      <td>0</td>\n",
       "      <td>0</td>\n",
       "      <td>1</td>\n",
       "      <td>0</td>\n",
       "      <td>0</td>\n",
       "      <td>0</td>\n",
       "    </tr>\n",
       "    <tr>\n",
       "      <th>4</th>\n",
       "      <td>0</td>\n",
       "      <td>0</td>\n",
       "      <td>1</td>\n",
       "      <td>9.305237</td>\n",
       "      <td>11.46350</td>\n",
       "      <td>43.6957</td>\n",
       "      <td>12.522300</td>\n",
       "      <td>1</td>\n",
       "      <td>0</td>\n",
       "      <td>0</td>\n",
       "      <td>0</td>\n",
       "      <td>0</td>\n",
       "      <td>0</td>\n",
       "      <td>1</td>\n",
       "      <td>0</td>\n",
       "      <td>0</td>\n",
       "      <td>0</td>\n",
       "      <td>0</td>\n",
       "      <td>0</td>\n",
       "      <td>0</td>\n",
       "      <td>0</td>\n",
       "      <td>0</td>\n",
       "      <td>0</td>\n",
       "      <td>0</td>\n",
       "      <td>0</td>\n",
       "      <td>0</td>\n",
       "      <td>1</td>\n",
       "      <td>0</td>\n",
       "      <td>0</td>\n",
       "    </tr>\n",
       "  </tbody>\n",
       "</table>\n",
       "</div>"
      ],
      "text/plain": [
       "   yr  holiday  workingday       temp     atemp      hum  windspeed  \\\n",
       "0   0        0           0  14.110847  18.18125  62.6250  10.749882   \n",
       "1   0        0           0  14.902598  17.68695  62.6250  16.652113   \n",
       "2   0        0           1   8.050924   9.47025  43.7273  16.636703   \n",
       "3   0        0           1   8.200000  10.60610  62.6250  10.739832   \n",
       "4   0        0           1   9.305237  11.46350  43.6957  12.522300   \n",
       "\n",
       "   season_Spring  season_Summer  season_Winter  mnth_Aug  mnth_Dec  mnth_Feb  \\\n",
       "0              1              0              0         0         0         0   \n",
       "1              1              0              0         0         0         0   \n",
       "2              1              0              0         0         0         0   \n",
       "3              1              0              0         0         0         0   \n",
       "4              1              0              0         0         0         0   \n",
       "\n",
       "   mnth_Jan  mnth_Jul  mnth_Jun  mnth_Mar  mnth_May  mnth_Nov  mnth_Oct  \\\n",
       "0         1         0         0         0         0         0         0   \n",
       "1         1         0         0         0         0         0         0   \n",
       "2         1         0         0         0         0         0         0   \n",
       "3         1         0         0         0         0         0         0   \n",
       "4         1         0         0         0         0         0         0   \n",
       "\n",
       "   mnth_Sept  weekday_Mon  weekday_Sat  weekday_Sun  weekday_Thur  \\\n",
       "0          0            0            1            0             0   \n",
       "1          0            0            0            1             0   \n",
       "2          0            1            0            0             0   \n",
       "3          0            0            0            0             0   \n",
       "4          0            0            0            0             0   \n",
       "\n",
       "   weekday_Tues  weekday_Wed  weathersit_LightRain_LightSnow_Thunderstorm  \\\n",
       "0             0            0                                            0   \n",
       "1             0            0                                            0   \n",
       "2             0            0                                            0   \n",
       "3             1            0                                            0   \n",
       "4             0            1                                            0   \n",
       "\n",
       "   weathersit_Mist_Cloudy  \n",
       "0                       1  \n",
       "1                       1  \n",
       "2                       0  \n",
       "3                       0  \n",
       "4                       0  "
      ]
     },
     "execution_count": 38,
     "metadata": {},
     "output_type": "execute_result"
    }
   ],
   "source": [
    "X.head()  # displaying independent variable dataset which are considered as X"
   ]
  },
  {
   "cell_type": "code",
   "execution_count": 39,
   "id": "32195f5d",
   "metadata": {},
   "outputs": [
    {
     "data": {
      "text/plain": [
       "0     985\n",
       "1     801\n",
       "2    1349\n",
       "3    1562\n",
       "4    1600\n",
       "Name: cnt, dtype: int64"
      ]
     },
     "execution_count": 39,
     "metadata": {},
     "output_type": "execute_result"
    }
   ],
   "source": [
    "y.head()  # displaying target variable dataset which are considered as y"
   ]
  },
  {
   "cell_type": "code",
   "execution_count": 40,
   "id": "865ba0c8",
   "metadata": {},
   "outputs": [],
   "source": [
    "X_train, X_test, y_train, y_test = train_test_split(X, y, test_size=0.25, random_state=100)  # splitting the data\n",
    "# data will be splitted into training and testing dataset"
   ]
  },
  {
   "cell_type": "code",
   "execution_count": 41,
   "id": "b57c2ddc",
   "metadata": {},
   "outputs": [
    {
     "data": {
      "text/plain": [
       "(547, 29)"
      ]
     },
     "execution_count": 41,
     "metadata": {},
     "output_type": "execute_result"
    }
   ],
   "source": [
    "# checking the shape of dataset after splitting the data\n",
    "X_train.shape     # shape of independent variable training dataset"
   ]
  },
  {
   "cell_type": "code",
   "execution_count": 42,
   "id": "b40fbcea",
   "metadata": {},
   "outputs": [
    {
     "data": {
      "text/plain": [
       "(183, 29)"
      ]
     },
     "execution_count": 42,
     "metadata": {},
     "output_type": "execute_result"
    }
   ],
   "source": [
    "X_test.shape      # shape of independent variable testing dataset"
   ]
  },
  {
   "cell_type": "code",
   "execution_count": 43,
   "id": "ff36516b",
   "metadata": {},
   "outputs": [
    {
     "data": {
      "text/plain": [
       "(547,)"
      ]
     },
     "execution_count": 43,
     "metadata": {},
     "output_type": "execute_result"
    }
   ],
   "source": [
    "y_train.shape     # shape of target variable training dataset"
   ]
  },
  {
   "cell_type": "code",
   "execution_count": 44,
   "id": "602acf04",
   "metadata": {},
   "outputs": [
    {
     "data": {
      "text/plain": [
       "(183,)"
      ]
     },
     "execution_count": 44,
     "metadata": {},
     "output_type": "execute_result"
    }
   ],
   "source": [
    "y_test.shape      # shape of target variable testing dataset"
   ]
  },
  {
   "cell_type": "markdown",
   "id": "e92e32bf",
   "metadata": {},
   "source": [
    "### Feature Scaling"
   ]
  },
  {
   "cell_type": "code",
   "execution_count": 45,
   "id": "d059a987",
   "metadata": {},
   "outputs": [],
   "source": [
    "num_vars = ['temp','atemp','hum','windspeed'] # 4 numerical variables from the dataset is taken "
   ]
  },
  {
   "cell_type": "code",
   "execution_count": 46,
   "id": "202f2ac0",
   "metadata": {},
   "outputs": [],
   "source": [
    "scaler = MinMaxScaler()    # using MinMaxScaler selected features are scaled"
   ]
  },
  {
   "cell_type": "code",
   "execution_count": 47,
   "id": "ba87ea0b",
   "metadata": {},
   "outputs": [],
   "source": [
    "X_train[num_vars] = scaler.fit_transform(X_train[num_vars])  # Scaling considered variables"
   ]
  },
  {
   "cell_type": "code",
   "execution_count": 48,
   "id": "92177a45",
   "metadata": {},
   "outputs": [
    {
     "data": {
      "text/html": [
       "<div>\n",
       "<style scoped>\n",
       "    .dataframe tbody tr th:only-of-type {\n",
       "        vertical-align: middle;\n",
       "    }\n",
       "\n",
       "    .dataframe tbody tr th {\n",
       "        vertical-align: top;\n",
       "    }\n",
       "\n",
       "    .dataframe thead th {\n",
       "        text-align: right;\n",
       "    }\n",
       "</style>\n",
       "<table border=\"1\" class=\"dataframe\">\n",
       "  <thead>\n",
       "    <tr style=\"text-align: right;\">\n",
       "      <th></th>\n",
       "      <th>yr</th>\n",
       "      <th>holiday</th>\n",
       "      <th>workingday</th>\n",
       "      <th>temp</th>\n",
       "      <th>atemp</th>\n",
       "      <th>hum</th>\n",
       "      <th>windspeed</th>\n",
       "      <th>season_Spring</th>\n",
       "      <th>season_Summer</th>\n",
       "      <th>season_Winter</th>\n",
       "      <th>mnth_Aug</th>\n",
       "      <th>mnth_Dec</th>\n",
       "      <th>mnth_Feb</th>\n",
       "      <th>mnth_Jan</th>\n",
       "      <th>mnth_Jul</th>\n",
       "      <th>mnth_Jun</th>\n",
       "      <th>mnth_Mar</th>\n",
       "      <th>mnth_May</th>\n",
       "      <th>mnth_Nov</th>\n",
       "      <th>mnth_Oct</th>\n",
       "      <th>mnth_Sept</th>\n",
       "      <th>weekday_Mon</th>\n",
       "      <th>weekday_Sat</th>\n",
       "      <th>weekday_Sun</th>\n",
       "      <th>weekday_Thur</th>\n",
       "      <th>weekday_Tues</th>\n",
       "      <th>weekday_Wed</th>\n",
       "      <th>weathersit_LightRain_LightSnow_Thunderstorm</th>\n",
       "      <th>weathersit_Mist_Cloudy</th>\n",
       "    </tr>\n",
       "  </thead>\n",
       "  <tbody>\n",
       "    <tr>\n",
       "      <th>311</th>\n",
       "      <td>0</td>\n",
       "      <td>0</td>\n",
       "      <td>1</td>\n",
       "      <td>0.435124</td>\n",
       "      <td>0.437339</td>\n",
       "      <td>1.000000</td>\n",
       "      <td>0.079610</td>\n",
       "      <td>0</td>\n",
       "      <td>0</td>\n",
       "      <td>1</td>\n",
       "      <td>0</td>\n",
       "      <td>0</td>\n",
       "      <td>0</td>\n",
       "      <td>0</td>\n",
       "      <td>0</td>\n",
       "      <td>0</td>\n",
       "      <td>0</td>\n",
       "      <td>0</td>\n",
       "      <td>1</td>\n",
       "      <td>0</td>\n",
       "      <td>0</td>\n",
       "      <td>0</td>\n",
       "      <td>0</td>\n",
       "      <td>0</td>\n",
       "      <td>0</td>\n",
       "      <td>1</td>\n",
       "      <td>0</td>\n",
       "      <td>0</td>\n",
       "      <td>0</td>\n",
       "    </tr>\n",
       "    <tr>\n",
       "      <th>523</th>\n",
       "      <td>1</td>\n",
       "      <td>0</td>\n",
       "      <td>1</td>\n",
       "      <td>0.735215</td>\n",
       "      <td>0.680985</td>\n",
       "      <td>0.548158</td>\n",
       "      <td>0.396299</td>\n",
       "      <td>0</td>\n",
       "      <td>1</td>\n",
       "      <td>0</td>\n",
       "      <td>0</td>\n",
       "      <td>0</td>\n",
       "      <td>0</td>\n",
       "      <td>0</td>\n",
       "      <td>0</td>\n",
       "      <td>1</td>\n",
       "      <td>0</td>\n",
       "      <td>0</td>\n",
       "      <td>0</td>\n",
       "      <td>0</td>\n",
       "      <td>0</td>\n",
       "      <td>0</td>\n",
       "      <td>0</td>\n",
       "      <td>0</td>\n",
       "      <td>0</td>\n",
       "      <td>0</td>\n",
       "      <td>0</td>\n",
       "      <td>0</td>\n",
       "      <td>0</td>\n",
       "    </tr>\n",
       "    <tr>\n",
       "      <th>381</th>\n",
       "      <td>1</td>\n",
       "      <td>0</td>\n",
       "      <td>1</td>\n",
       "      <td>0.391151</td>\n",
       "      <td>0.374375</td>\n",
       "      <td>1.000000</td>\n",
       "      <td>0.913706</td>\n",
       "      <td>1</td>\n",
       "      <td>0</td>\n",
       "      <td>0</td>\n",
       "      <td>0</td>\n",
       "      <td>0</td>\n",
       "      <td>0</td>\n",
       "      <td>1</td>\n",
       "      <td>0</td>\n",
       "      <td>0</td>\n",
       "      <td>0</td>\n",
       "      <td>0</td>\n",
       "      <td>0</td>\n",
       "      <td>0</td>\n",
       "      <td>0</td>\n",
       "      <td>0</td>\n",
       "      <td>0</td>\n",
       "      <td>0</td>\n",
       "      <td>0</td>\n",
       "      <td>1</td>\n",
       "      <td>0</td>\n",
       "      <td>0</td>\n",
       "      <td>1</td>\n",
       "    </tr>\n",
       "    <tr>\n",
       "      <th>413</th>\n",
       "      <td>1</td>\n",
       "      <td>0</td>\n",
       "      <td>0</td>\n",
       "      <td>0.358285</td>\n",
       "      <td>0.362754</td>\n",
       "      <td>1.000000</td>\n",
       "      <td>0.442594</td>\n",
       "      <td>1</td>\n",
       "      <td>0</td>\n",
       "      <td>0</td>\n",
       "      <td>0</td>\n",
       "      <td>0</td>\n",
       "      <td>1</td>\n",
       "      <td>0</td>\n",
       "      <td>0</td>\n",
       "      <td>0</td>\n",
       "      <td>0</td>\n",
       "      <td>0</td>\n",
       "      <td>0</td>\n",
       "      <td>0</td>\n",
       "      <td>0</td>\n",
       "      <td>0</td>\n",
       "      <td>1</td>\n",
       "      <td>0</td>\n",
       "      <td>0</td>\n",
       "      <td>0</td>\n",
       "      <td>0</td>\n",
       "      <td>0</td>\n",
       "      <td>0</td>\n",
       "    </tr>\n",
       "    <tr>\n",
       "      <th>253</th>\n",
       "      <td>0</td>\n",
       "      <td>0</td>\n",
       "      <td>0</td>\n",
       "      <td>0.740406</td>\n",
       "      <td>0.695906</td>\n",
       "      <td>1.000000</td>\n",
       "      <td>0.216644</td>\n",
       "      <td>0</td>\n",
       "      <td>0</td>\n",
       "      <td>0</td>\n",
       "      <td>0</td>\n",
       "      <td>0</td>\n",
       "      <td>0</td>\n",
       "      <td>0</td>\n",
       "      <td>0</td>\n",
       "      <td>0</td>\n",
       "      <td>0</td>\n",
       "      <td>0</td>\n",
       "      <td>0</td>\n",
       "      <td>0</td>\n",
       "      <td>1</td>\n",
       "      <td>0</td>\n",
       "      <td>0</td>\n",
       "      <td>1</td>\n",
       "      <td>0</td>\n",
       "      <td>0</td>\n",
       "      <td>0</td>\n",
       "      <td>0</td>\n",
       "      <td>0</td>\n",
       "    </tr>\n",
       "  </tbody>\n",
       "</table>\n",
       "</div>"
      ],
      "text/plain": [
       "     yr  holiday  workingday      temp     atemp       hum  windspeed  \\\n",
       "311   0        0           1  0.435124  0.437339  1.000000   0.079610   \n",
       "523   1        0           1  0.735215  0.680985  0.548158   0.396299   \n",
       "381   1        0           1  0.391151  0.374375  1.000000   0.913706   \n",
       "413   1        0           0  0.358285  0.362754  1.000000   0.442594   \n",
       "253   0        0           0  0.740406  0.695906  1.000000   0.216644   \n",
       "\n",
       "     season_Spring  season_Summer  season_Winter  mnth_Aug  mnth_Dec  \\\n",
       "311              0              0              1         0         0   \n",
       "523              0              1              0         0         0   \n",
       "381              1              0              0         0         0   \n",
       "413              1              0              0         0         0   \n",
       "253              0              0              0         0         0   \n",
       "\n",
       "     mnth_Feb  mnth_Jan  mnth_Jul  mnth_Jun  mnth_Mar  mnth_May  mnth_Nov  \\\n",
       "311         0         0         0         0         0         0         1   \n",
       "523         0         0         0         1         0         0         0   \n",
       "381         0         1         0         0         0         0         0   \n",
       "413         1         0         0         0         0         0         0   \n",
       "253         0         0         0         0         0         0         0   \n",
       "\n",
       "     mnth_Oct  mnth_Sept  weekday_Mon  weekday_Sat  weekday_Sun  weekday_Thur  \\\n",
       "311         0          0            0            0            0             0   \n",
       "523         0          0            0            0            0             0   \n",
       "381         0          0            0            0            0             0   \n",
       "413         0          0            0            1            0             0   \n",
       "253         0          1            0            0            1             0   \n",
       "\n",
       "     weekday_Tues  weekday_Wed  weathersit_LightRain_LightSnow_Thunderstorm  \\\n",
       "311             1            0                                            0   \n",
       "523             0            0                                            0   \n",
       "381             1            0                                            0   \n",
       "413             0            0                                            0   \n",
       "253             0            0                                            0   \n",
       "\n",
       "     weathersit_Mist_Cloudy  \n",
       "311                       0  \n",
       "523                       0  \n",
       "381                       1  \n",
       "413                       0  \n",
       "253                       0  "
      ]
     },
     "execution_count": 48,
     "metadata": {},
     "output_type": "execute_result"
    }
   ],
   "source": [
    "X_train.head()    # displaying independent training variable after scaling"
   ]
  },
  {
   "cell_type": "code",
   "execution_count": 49,
   "id": "3bd9f80d",
   "metadata": {},
   "outputs": [
    {
     "data": {
      "text/html": [
       "<div>\n",
       "<style scoped>\n",
       "    .dataframe tbody tr th:only-of-type {\n",
       "        vertical-align: middle;\n",
       "    }\n",
       "\n",
       "    .dataframe tbody tr th {\n",
       "        vertical-align: top;\n",
       "    }\n",
       "\n",
       "    .dataframe thead th {\n",
       "        text-align: right;\n",
       "    }\n",
       "</style>\n",
       "<table border=\"1\" class=\"dataframe\">\n",
       "  <thead>\n",
       "    <tr style=\"text-align: right;\">\n",
       "      <th></th>\n",
       "      <th>yr</th>\n",
       "      <th>holiday</th>\n",
       "      <th>workingday</th>\n",
       "      <th>temp</th>\n",
       "      <th>atemp</th>\n",
       "      <th>hum</th>\n",
       "      <th>windspeed</th>\n",
       "      <th>season_Spring</th>\n",
       "      <th>season_Summer</th>\n",
       "      <th>season_Winter</th>\n",
       "      <th>mnth_Aug</th>\n",
       "      <th>mnth_Dec</th>\n",
       "      <th>mnth_Feb</th>\n",
       "      <th>mnth_Jan</th>\n",
       "      <th>mnth_Jul</th>\n",
       "      <th>mnth_Jun</th>\n",
       "      <th>mnth_Mar</th>\n",
       "      <th>mnth_May</th>\n",
       "      <th>mnth_Nov</th>\n",
       "      <th>mnth_Oct</th>\n",
       "      <th>mnth_Sept</th>\n",
       "      <th>weekday_Mon</th>\n",
       "      <th>weekday_Sat</th>\n",
       "      <th>weekday_Sun</th>\n",
       "      <th>weekday_Thur</th>\n",
       "      <th>weekday_Tues</th>\n",
       "      <th>weekday_Wed</th>\n",
       "      <th>weathersit_LightRain_LightSnow_Thunderstorm</th>\n",
       "      <th>weathersit_Mist_Cloudy</th>\n",
       "    </tr>\n",
       "  </thead>\n",
       "  <tbody>\n",
       "    <tr>\n",
       "      <th>count</th>\n",
       "      <td>547.000000</td>\n",
       "      <td>547.000000</td>\n",
       "      <td>547.000000</td>\n",
       "      <td>547.000000</td>\n",
       "      <td>547.000000</td>\n",
       "      <td>547.000000</td>\n",
       "      <td>547.000000</td>\n",
       "      <td>547.000000</td>\n",
       "      <td>547.000000</td>\n",
       "      <td>547.000000</td>\n",
       "      <td>547.000000</td>\n",
       "      <td>547.000000</td>\n",
       "      <td>547.000000</td>\n",
       "      <td>547.00000</td>\n",
       "      <td>547.000000</td>\n",
       "      <td>547.000000</td>\n",
       "      <td>547.000000</td>\n",
       "      <td>547.000000</td>\n",
       "      <td>547.000000</td>\n",
       "      <td>547.000000</td>\n",
       "      <td>547.000000</td>\n",
       "      <td>547.000000</td>\n",
       "      <td>547.000000</td>\n",
       "      <td>547.000000</td>\n",
       "      <td>547.000000</td>\n",
       "      <td>547.000000</td>\n",
       "      <td>547.000000</td>\n",
       "      <td>547.000000</td>\n",
       "      <td>547.000000</td>\n",
       "    </tr>\n",
       "    <tr>\n",
       "      <th>mean</th>\n",
       "      <td>0.508227</td>\n",
       "      <td>0.027422</td>\n",
       "      <td>0.669104</td>\n",
       "      <td>0.535543</td>\n",
       "      <td>0.511400</td>\n",
       "      <td>0.929492</td>\n",
       "      <td>0.428207</td>\n",
       "      <td>0.257770</td>\n",
       "      <td>0.244973</td>\n",
       "      <td>0.244973</td>\n",
       "      <td>0.093236</td>\n",
       "      <td>0.087751</td>\n",
       "      <td>0.073126</td>\n",
       "      <td>0.08958</td>\n",
       "      <td>0.071298</td>\n",
       "      <td>0.078611</td>\n",
       "      <td>0.096892</td>\n",
       "      <td>0.084095</td>\n",
       "      <td>0.082267</td>\n",
       "      <td>0.087751</td>\n",
       "      <td>0.080439</td>\n",
       "      <td>0.153565</td>\n",
       "      <td>0.151737</td>\n",
       "      <td>0.151737</td>\n",
       "      <td>0.131627</td>\n",
       "      <td>0.135283</td>\n",
       "      <td>0.151737</td>\n",
       "      <td>0.027422</td>\n",
       "      <td>0.349177</td>\n",
       "    </tr>\n",
       "    <tr>\n",
       "      <th>std</th>\n",
       "      <td>0.500390</td>\n",
       "      <td>0.163460</td>\n",
       "      <td>0.470966</td>\n",
       "      <td>0.225446</td>\n",
       "      <td>0.211788</td>\n",
       "      <td>0.199398</td>\n",
       "      <td>0.213231</td>\n",
       "      <td>0.437807</td>\n",
       "      <td>0.430465</td>\n",
       "      <td>0.430465</td>\n",
       "      <td>0.291029</td>\n",
       "      <td>0.283192</td>\n",
       "      <td>0.260582</td>\n",
       "      <td>0.28584</td>\n",
       "      <td>0.257557</td>\n",
       "      <td>0.269376</td>\n",
       "      <td>0.296082</td>\n",
       "      <td>0.277784</td>\n",
       "      <td>0.275022</td>\n",
       "      <td>0.283192</td>\n",
       "      <td>0.272220</td>\n",
       "      <td>0.360861</td>\n",
       "      <td>0.359094</td>\n",
       "      <td>0.359094</td>\n",
       "      <td>0.338394</td>\n",
       "      <td>0.342339</td>\n",
       "      <td>0.359094</td>\n",
       "      <td>0.163460</td>\n",
       "      <td>0.477146</td>\n",
       "    </tr>\n",
       "    <tr>\n",
       "      <th>min</th>\n",
       "      <td>0.000000</td>\n",
       "      <td>0.000000</td>\n",
       "      <td>0.000000</td>\n",
       "      <td>0.000000</td>\n",
       "      <td>0.000000</td>\n",
       "      <td>0.000000</td>\n",
       "      <td>0.000000</td>\n",
       "      <td>0.000000</td>\n",
       "      <td>0.000000</td>\n",
       "      <td>0.000000</td>\n",
       "      <td>0.000000</td>\n",
       "      <td>0.000000</td>\n",
       "      <td>0.000000</td>\n",
       "      <td>0.00000</td>\n",
       "      <td>0.000000</td>\n",
       "      <td>0.000000</td>\n",
       "      <td>0.000000</td>\n",
       "      <td>0.000000</td>\n",
       "      <td>0.000000</td>\n",
       "      <td>0.000000</td>\n",
       "      <td>0.000000</td>\n",
       "      <td>0.000000</td>\n",
       "      <td>0.000000</td>\n",
       "      <td>0.000000</td>\n",
       "      <td>0.000000</td>\n",
       "      <td>0.000000</td>\n",
       "      <td>0.000000</td>\n",
       "      <td>0.000000</td>\n",
       "      <td>0.000000</td>\n",
       "    </tr>\n",
       "    <tr>\n",
       "      <th>25%</th>\n",
       "      <td>0.000000</td>\n",
       "      <td>0.000000</td>\n",
       "      <td>0.000000</td>\n",
       "      <td>0.336998</td>\n",
       "      <td>0.326287</td>\n",
       "      <td>1.000000</td>\n",
       "      <td>0.274055</td>\n",
       "      <td>0.000000</td>\n",
       "      <td>0.000000</td>\n",
       "      <td>0.000000</td>\n",
       "      <td>0.000000</td>\n",
       "      <td>0.000000</td>\n",
       "      <td>0.000000</td>\n",
       "      <td>0.00000</td>\n",
       "      <td>0.000000</td>\n",
       "      <td>0.000000</td>\n",
       "      <td>0.000000</td>\n",
       "      <td>0.000000</td>\n",
       "      <td>0.000000</td>\n",
       "      <td>0.000000</td>\n",
       "      <td>0.000000</td>\n",
       "      <td>0.000000</td>\n",
       "      <td>0.000000</td>\n",
       "      <td>0.000000</td>\n",
       "      <td>0.000000</td>\n",
       "      <td>0.000000</td>\n",
       "      <td>0.000000</td>\n",
       "      <td>0.000000</td>\n",
       "      <td>0.000000</td>\n",
       "    </tr>\n",
       "    <tr>\n",
       "      <th>50%</th>\n",
       "      <td>1.000000</td>\n",
       "      <td>0.000000</td>\n",
       "      <td>1.000000</td>\n",
       "      <td>0.535847</td>\n",
       "      <td>0.521862</td>\n",
       "      <td>1.000000</td>\n",
       "      <td>0.407392</td>\n",
       "      <td>0.000000</td>\n",
       "      <td>0.000000</td>\n",
       "      <td>0.000000</td>\n",
       "      <td>0.000000</td>\n",
       "      <td>0.000000</td>\n",
       "      <td>0.000000</td>\n",
       "      <td>0.00000</td>\n",
       "      <td>0.000000</td>\n",
       "      <td>0.000000</td>\n",
       "      <td>0.000000</td>\n",
       "      <td>0.000000</td>\n",
       "      <td>0.000000</td>\n",
       "      <td>0.000000</td>\n",
       "      <td>0.000000</td>\n",
       "      <td>0.000000</td>\n",
       "      <td>0.000000</td>\n",
       "      <td>0.000000</td>\n",
       "      <td>0.000000</td>\n",
       "      <td>0.000000</td>\n",
       "      <td>0.000000</td>\n",
       "      <td>0.000000</td>\n",
       "      <td>0.000000</td>\n",
       "    </tr>\n",
       "    <tr>\n",
       "      <th>75%</th>\n",
       "      <td>1.000000</td>\n",
       "      <td>0.000000</td>\n",
       "      <td>1.000000</td>\n",
       "      <td>0.735215</td>\n",
       "      <td>0.688457</td>\n",
       "      <td>1.000000</td>\n",
       "      <td>0.560179</td>\n",
       "      <td>1.000000</td>\n",
       "      <td>0.000000</td>\n",
       "      <td>0.000000</td>\n",
       "      <td>0.000000</td>\n",
       "      <td>0.000000</td>\n",
       "      <td>0.000000</td>\n",
       "      <td>0.00000</td>\n",
       "      <td>0.000000</td>\n",
       "      <td>0.000000</td>\n",
       "      <td>0.000000</td>\n",
       "      <td>0.000000</td>\n",
       "      <td>0.000000</td>\n",
       "      <td>0.000000</td>\n",
       "      <td>0.000000</td>\n",
       "      <td>0.000000</td>\n",
       "      <td>0.000000</td>\n",
       "      <td>0.000000</td>\n",
       "      <td>0.000000</td>\n",
       "      <td>0.000000</td>\n",
       "      <td>0.000000</td>\n",
       "      <td>0.000000</td>\n",
       "      <td>1.000000</td>\n",
       "    </tr>\n",
       "    <tr>\n",
       "      <th>max</th>\n",
       "      <td>1.000000</td>\n",
       "      <td>1.000000</td>\n",
       "      <td>1.000000</td>\n",
       "      <td>1.000000</td>\n",
       "      <td>1.000000</td>\n",
       "      <td>1.000000</td>\n",
       "      <td>1.000000</td>\n",
       "      <td>1.000000</td>\n",
       "      <td>1.000000</td>\n",
       "      <td>1.000000</td>\n",
       "      <td>1.000000</td>\n",
       "      <td>1.000000</td>\n",
       "      <td>1.000000</td>\n",
       "      <td>1.00000</td>\n",
       "      <td>1.000000</td>\n",
       "      <td>1.000000</td>\n",
       "      <td>1.000000</td>\n",
       "      <td>1.000000</td>\n",
       "      <td>1.000000</td>\n",
       "      <td>1.000000</td>\n",
       "      <td>1.000000</td>\n",
       "      <td>1.000000</td>\n",
       "      <td>1.000000</td>\n",
       "      <td>1.000000</td>\n",
       "      <td>1.000000</td>\n",
       "      <td>1.000000</td>\n",
       "      <td>1.000000</td>\n",
       "      <td>1.000000</td>\n",
       "      <td>1.000000</td>\n",
       "    </tr>\n",
       "  </tbody>\n",
       "</table>\n",
       "</div>"
      ],
      "text/plain": [
       "               yr     holiday  workingday        temp       atemp         hum  \\\n",
       "count  547.000000  547.000000  547.000000  547.000000  547.000000  547.000000   \n",
       "mean     0.508227    0.027422    0.669104    0.535543    0.511400    0.929492   \n",
       "std      0.500390    0.163460    0.470966    0.225446    0.211788    0.199398   \n",
       "min      0.000000    0.000000    0.000000    0.000000    0.000000    0.000000   \n",
       "25%      0.000000    0.000000    0.000000    0.336998    0.326287    1.000000   \n",
       "50%      1.000000    0.000000    1.000000    0.535847    0.521862    1.000000   \n",
       "75%      1.000000    0.000000    1.000000    0.735215    0.688457    1.000000   \n",
       "max      1.000000    1.000000    1.000000    1.000000    1.000000    1.000000   \n",
       "\n",
       "        windspeed  season_Spring  season_Summer  season_Winter    mnth_Aug  \\\n",
       "count  547.000000     547.000000     547.000000     547.000000  547.000000   \n",
       "mean     0.428207       0.257770       0.244973       0.244973    0.093236   \n",
       "std      0.213231       0.437807       0.430465       0.430465    0.291029   \n",
       "min      0.000000       0.000000       0.000000       0.000000    0.000000   \n",
       "25%      0.274055       0.000000       0.000000       0.000000    0.000000   \n",
       "50%      0.407392       0.000000       0.000000       0.000000    0.000000   \n",
       "75%      0.560179       1.000000       0.000000       0.000000    0.000000   \n",
       "max      1.000000       1.000000       1.000000       1.000000    1.000000   \n",
       "\n",
       "         mnth_Dec    mnth_Feb   mnth_Jan    mnth_Jul    mnth_Jun    mnth_Mar  \\\n",
       "count  547.000000  547.000000  547.00000  547.000000  547.000000  547.000000   \n",
       "mean     0.087751    0.073126    0.08958    0.071298    0.078611    0.096892   \n",
       "std      0.283192    0.260582    0.28584    0.257557    0.269376    0.296082   \n",
       "min      0.000000    0.000000    0.00000    0.000000    0.000000    0.000000   \n",
       "25%      0.000000    0.000000    0.00000    0.000000    0.000000    0.000000   \n",
       "50%      0.000000    0.000000    0.00000    0.000000    0.000000    0.000000   \n",
       "75%      0.000000    0.000000    0.00000    0.000000    0.000000    0.000000   \n",
       "max      1.000000    1.000000    1.00000    1.000000    1.000000    1.000000   \n",
       "\n",
       "         mnth_May    mnth_Nov    mnth_Oct   mnth_Sept  weekday_Mon  \\\n",
       "count  547.000000  547.000000  547.000000  547.000000   547.000000   \n",
       "mean     0.084095    0.082267    0.087751    0.080439     0.153565   \n",
       "std      0.277784    0.275022    0.283192    0.272220     0.360861   \n",
       "min      0.000000    0.000000    0.000000    0.000000     0.000000   \n",
       "25%      0.000000    0.000000    0.000000    0.000000     0.000000   \n",
       "50%      0.000000    0.000000    0.000000    0.000000     0.000000   \n",
       "75%      0.000000    0.000000    0.000000    0.000000     0.000000   \n",
       "max      1.000000    1.000000    1.000000    1.000000     1.000000   \n",
       "\n",
       "       weekday_Sat  weekday_Sun  weekday_Thur  weekday_Tues  weekday_Wed  \\\n",
       "count   547.000000   547.000000    547.000000    547.000000   547.000000   \n",
       "mean      0.151737     0.151737      0.131627      0.135283     0.151737   \n",
       "std       0.359094     0.359094      0.338394      0.342339     0.359094   \n",
       "min       0.000000     0.000000      0.000000      0.000000     0.000000   \n",
       "25%       0.000000     0.000000      0.000000      0.000000     0.000000   \n",
       "50%       0.000000     0.000000      0.000000      0.000000     0.000000   \n",
       "75%       0.000000     0.000000      0.000000      0.000000     0.000000   \n",
       "max       1.000000     1.000000      1.000000      1.000000     1.000000   \n",
       "\n",
       "       weathersit_LightRain_LightSnow_Thunderstorm  weathersit_Mist_Cloudy  \n",
       "count                                   547.000000              547.000000  \n",
       "mean                                      0.027422                0.349177  \n",
       "std                                       0.163460                0.477146  \n",
       "min                                       0.000000                0.000000  \n",
       "25%                                       0.000000                0.000000  \n",
       "50%                                       0.000000                0.000000  \n",
       "75%                                       0.000000                1.000000  \n",
       "max                                       1.000000                1.000000  "
      ]
     },
     "execution_count": 49,
     "metadata": {},
     "output_type": "execute_result"
    }
   ],
   "source": [
    "X_train.describe()   # discriptive statistics of independent training variable after the process of feature scaling"
   ]
  },
  {
   "cell_type": "markdown",
   "id": "c2eccbdd",
   "metadata": {},
   "source": [
    "### Feature Selection"
   ]
  },
  {
   "cell_type": "code",
   "execution_count": 50,
   "id": "4d30a5ea",
   "metadata": {},
   "outputs": [
    {
     "data": {
      "text/plain": [
       "LinearRegression()"
      ]
     },
     "execution_count": 50,
     "metadata": {},
     "output_type": "execute_result"
    }
   ],
   "source": [
    "lr = LinearRegression()      # linear regression algorithm is implemented and the fitted to the splitted data\n",
    "lr.fit(X_train,y_train)"
   ]
  },
  {
   "cell_type": "code",
   "execution_count": 51,
   "id": "b0578cf5",
   "metadata": {},
   "outputs": [
    {
     "data": {
      "text/plain": [
       "RFE(estimator=LinearRegression(), n_features_to_select=15)"
      ]
     },
     "execution_count": 51,
     "metadata": {},
     "output_type": "execute_result"
    }
   ],
   "source": [
    "rfe = RFE(lr,15)\n",
    "rfe.fit(X_train,y_train)"
   ]
  },
  {
   "cell_type": "code",
   "execution_count": 52,
   "id": "838755ce",
   "metadata": {},
   "outputs": [
    {
     "data": {
      "text/plain": [
       "[('yr', True, 1),\n",
       " ('holiday', True, 1),\n",
       " ('workingday', True, 1),\n",
       " ('temp', True, 1),\n",
       " ('atemp', False, 5),\n",
       " ('hum', False, 10),\n",
       " ('windspeed', True, 1),\n",
       " ('season_Spring', True, 1),\n",
       " ('season_Summer', True, 1),\n",
       " ('season_Winter', True, 1),\n",
       " ('mnth_Aug', False, 4),\n",
       " ('mnth_Dec', True, 1),\n",
       " ('mnth_Feb', False, 3),\n",
       " ('mnth_Jan', False, 2),\n",
       " ('mnth_Jul', False, 11),\n",
       " ('mnth_Jun', False, 6),\n",
       " ('mnth_Mar', False, 15),\n",
       " ('mnth_May', False, 7),\n",
       " ('mnth_Nov', True, 1),\n",
       " ('mnth_Oct', False, 14),\n",
       " ('mnth_Sept', True, 1),\n",
       " ('weekday_Mon', False, 8),\n",
       " ('weekday_Sat', True, 1),\n",
       " ('weekday_Sun', True, 1),\n",
       " ('weekday_Thur', False, 12),\n",
       " ('weekday_Tues', False, 9),\n",
       " ('weekday_Wed', False, 13),\n",
       " ('weathersit_LightRain_LightSnow_Thunderstorm', True, 1),\n",
       " ('weathersit_Mist_Cloudy', True, 1)]"
      ]
     },
     "execution_count": 52,
     "metadata": {},
     "output_type": "execute_result"
    }
   ],
   "source": [
    "list(zip(X_train.columns,rfe.support_,rfe.ranking_))"
   ]
  },
  {
   "cell_type": "code",
   "execution_count": 53,
   "id": "8bdc0408",
   "metadata": {},
   "outputs": [
    {
     "data": {
      "text/plain": [
       "Index(['yr', 'holiday', 'workingday', 'temp', 'windspeed', 'season_Spring',\n",
       "       'season_Summer', 'season_Winter', 'mnth_Dec', 'mnth_Nov', 'mnth_Sept',\n",
       "       'weekday_Sat', 'weekday_Sun',\n",
       "       'weathersit_LightRain_LightSnow_Thunderstorm',\n",
       "       'weathersit_Mist_Cloudy'],\n",
       "      dtype='object')"
      ]
     },
     "execution_count": 53,
     "metadata": {},
     "output_type": "execute_result"
    }
   ],
   "source": [
    "X_train.columns[rfe.support_]"
   ]
  },
  {
   "cell_type": "code",
   "execution_count": 54,
   "id": "7db2797b",
   "metadata": {},
   "outputs": [
    {
     "data": {
      "text/plain": [
       "Index(['atemp', 'hum', 'mnth_Aug', 'mnth_Feb', 'mnth_Jan', 'mnth_Jul',\n",
       "       'mnth_Jun', 'mnth_Mar', 'mnth_May', 'mnth_Oct', 'weekday_Mon',\n",
       "       'weekday_Thur', 'weekday_Tues', 'weekday_Wed'],\n",
       "      dtype='object')"
      ]
     },
     "execution_count": 54,
     "metadata": {},
     "output_type": "execute_result"
    }
   ],
   "source": [
    "X_train.columns[~rfe.support_]"
   ]
  },
  {
   "cell_type": "code",
   "execution_count": 55,
   "id": "1b10b938",
   "metadata": {},
   "outputs": [
    {
     "data": {
      "text/plain": [
       "Index(['yr', 'holiday', 'workingday', 'temp', 'windspeed', 'season_Spring',\n",
       "       'season_Summer', 'season_Winter', 'mnth_Dec', 'mnth_Nov', 'mnth_Sept',\n",
       "       'weekday_Sat', 'weekday_Sun',\n",
       "       'weathersit_LightRain_LightSnow_Thunderstorm',\n",
       "       'weathersit_Mist_Cloudy'],\n",
       "      dtype='object')"
      ]
     },
     "execution_count": 55,
     "metadata": {},
     "output_type": "execute_result"
    }
   ],
   "source": [
    "columns = X_train.columns[rfe.support_]\n",
    "columns"
   ]
  },
  {
   "cell_type": "code",
   "execution_count": 56,
   "id": "198b3ef0",
   "metadata": {},
   "outputs": [],
   "source": [
    "X_train_rfe = X_train[columns]"
   ]
  },
  {
   "cell_type": "code",
   "execution_count": 57,
   "id": "8b42445c",
   "metadata": {},
   "outputs": [
    {
     "data": {
      "text/plain": [
       "(547, 15)"
      ]
     },
     "execution_count": 57,
     "metadata": {},
     "output_type": "execute_result"
    }
   ],
   "source": [
    "X_train_rfe.shape"
   ]
  },
  {
   "cell_type": "markdown",
   "id": "2c333187",
   "metadata": {},
   "source": [
    "### Model Building"
   ]
  },
  {
   "cell_type": "markdown",
   "id": "0cb726b8",
   "metadata": {},
   "source": [
    "##### Model_1 - Utilizing all the columns collected by RFE in this model"
   ]
  },
  {
   "cell_type": "code",
   "execution_count": 58,
   "id": "4397c7c5",
   "metadata": {},
   "outputs": [],
   "source": [
    "columns = ['yr', 'holiday', 'workingday', 'temp', 'hum', 'windspeed',\n",
    "       'season_Spring', 'season_Winter', 'mnth_Jan', 'mnth_Jul', 'mnth_Sept',\n",
    "       'weekday_Sat', 'weathersit_LightRain_LightSnow_Thunderstorm',\n",
    "       'weathersit_Mist_Cloudy']"
   ]
  },
  {
   "cell_type": "code",
   "execution_count": 59,
   "id": "4acdaf48",
   "metadata": {},
   "outputs": [
    {
     "data": {
      "text/plain": [
       "['yr',\n",
       " 'holiday',\n",
       " 'workingday',\n",
       " 'temp',\n",
       " 'hum',\n",
       " 'windspeed',\n",
       " 'season_Spring',\n",
       " 'season_Winter',\n",
       " 'mnth_Jan',\n",
       " 'mnth_Jul',\n",
       " 'mnth_Sept',\n",
       " 'weekday_Sat',\n",
       " 'weathersit_LightRain_LightSnow_Thunderstorm',\n",
       " 'weathersit_Mist_Cloudy']"
      ]
     },
     "execution_count": 59,
     "metadata": {},
     "output_type": "execute_result"
    }
   ],
   "source": [
    "columns"
   ]
  },
  {
   "cell_type": "code",
   "execution_count": 60,
   "id": "5ef20ef7",
   "metadata": {},
   "outputs": [
    {
     "name": "stdout",
     "output_type": "stream",
     "text": [
      "                            OLS Regression Results                            \n",
      "==============================================================================\n",
      "Dep. Variable:                    cnt   R-squared:                       0.839\n",
      "Model:                            OLS   Adj. R-squared:                  0.834\n",
      "Method:                 Least Squares   F-statistic:                     197.5\n",
      "Date:                Wed, 22 Dec 2021   Prob (F-statistic):          3.48e-200\n",
      "Time:                        20:24:26   Log-Likelihood:                -4422.2\n",
      "No. Observations:                 547   AIC:                             8874.\n",
      "Df Residuals:                     532   BIC:                             8939.\n",
      "Df Model:                          14                                         \n",
      "Covariance Type:            nonrobust                                         \n",
      "===============================================================================================================\n",
      "                                                  coef    std err          t      P>|t|      [0.025      0.975]\n",
      "---------------------------------------------------------------------------------------------------------------\n",
      "const                                        1786.5623    264.777      6.747      0.000    1266.426    2306.698\n",
      "yr                                           2021.4581     68.757     29.400      0.000    1886.391    2156.526\n",
      "holiday                                      -625.8480    225.122     -2.780      0.006   -1068.086    -183.610\n",
      "workingday                                    408.4383     97.257      4.200      0.000     217.382     599.494\n",
      "temp                                         3861.6937    267.751     14.423      0.000    3335.714    4387.673\n",
      "hum                                            73.8845    189.430      0.390      0.697    -298.239     446.008\n",
      "windspeed                                    -765.4731    169.310     -4.521      0.000   -1098.072    -432.874\n",
      "season_Spring                                -955.4296    130.566     -7.318      0.000   -1211.918    -698.941\n",
      "season_Winter                                 427.3178    106.260      4.021      0.000     218.577     636.058\n",
      "mnth_Jan                                     -281.8989    145.318     -1.940      0.053    -567.366       3.569\n",
      "mnth_Jul                                     -600.9378    149.419     -4.022      0.000    -894.462    -307.413\n",
      "mnth_Sept                                     484.6616    131.647      3.682      0.000     226.050     743.273\n",
      "weekday_Sat                                   476.7579    123.980      3.845      0.000     233.207     720.309\n",
      "weathersit_LightRain_LightSnow_Thunderstorm -2570.6579    215.493    -11.929      0.000   -2993.979   -2147.337\n",
      "weathersit_Mist_Cloudy                       -696.6422     75.834     -9.186      0.000    -845.613    -547.671\n",
      "==============================================================================\n",
      "Omnibus:                       69.382   Durbin-Watson:                   2.042\n",
      "Prob(Omnibus):                  0.000   Jarque-Bera (JB):              170.141\n",
      "Skew:                          -0.663   Prob(JB):                     1.13e-37\n",
      "Kurtosis:                       5.389   Cond. No.                         19.4\n",
      "==============================================================================\n",
      "\n",
      "Notes:\n",
      "[1] Standard Errors assume that the covariance matrix of the errors is correctly specified.\n"
     ]
    }
   ],
   "source": [
    "X_train_sm1 = sm.add_constant(X_train[columns])\n",
    "lm = sm.OLS(y_train, X_train_sm1).fit()\n",
    "print(lm.summary())"
   ]
  },
  {
   "cell_type": "code",
   "execution_count": 61,
   "id": "e631a5ba",
   "metadata": {
    "scrolled": true
   },
   "outputs": [
    {
     "name": "stdout",
     "output_type": "stream",
     "text": [
      "                                       Features    VIF\n",
      "4                                           hum  19.16\n",
      "3                                          temp  14.66\n",
      "2                                    workingday   5.04\n",
      "5                                     windspeed   4.50\n",
      "6                                 season_Spring   3.05\n",
      "0                                            yr   2.06\n",
      "7                                 season_Winter   2.06\n",
      "11                                  weekday_Sat   1.90\n",
      "13                       weathersit_Mist_Cloudy   1.73\n",
      "8                                      mnth_Jan   1.58\n",
      "9                                      mnth_Jul   1.36\n",
      "10                                    mnth_Sept   1.20\n",
      "1                                       holiday   1.19\n",
      "12  weathersit_LightRain_LightSnow_Thunderstorm   1.10\n"
     ]
    }
   ],
   "source": [
    "vif = pd.DataFrame()\n",
    "vif['Features'] = X_train[columns].columns\n",
    "vif['VIF'] = [variance_inflation_factor(X_train[columns].values, i) for i in range(X_train[columns].shape[1])]\n",
    "vif['VIF'] = round(vif['VIF'],2)\n",
    "print(vif.sort_values(by='VIF',ascending=False))"
   ]
  },
  {
   "cell_type": "markdown",
   "id": "cdce31ea",
   "metadata": {},
   "source": [
    "##### Model_2 - Droping mnth_Jan column from the model_1"
   ]
  },
  {
   "cell_type": "code",
   "execution_count": 62,
   "id": "a21d4a49",
   "metadata": {},
   "outputs": [],
   "source": [
    "columns = ['yr', 'holiday', 'workingday', 'temp', 'hum', 'windspeed',\n",
    "       'season_Spring', 'season_Winter', 'mnth_Jul', 'mnth_Sept',\n",
    "       'weekday_Sat', 'weathersit_LightRain_LightSnow_Thunderstorm',\n",
    "       'weathersit_Mist_Cloudy']"
   ]
  },
  {
   "cell_type": "code",
   "execution_count": 63,
   "id": "c66df218",
   "metadata": {},
   "outputs": [
    {
     "data": {
      "text/plain": [
       "['yr',\n",
       " 'holiday',\n",
       " 'workingday',\n",
       " 'temp',\n",
       " 'hum',\n",
       " 'windspeed',\n",
       " 'season_Spring',\n",
       " 'season_Winter',\n",
       " 'mnth_Jul',\n",
       " 'mnth_Sept',\n",
       " 'weekday_Sat',\n",
       " 'weathersit_LightRain_LightSnow_Thunderstorm',\n",
       " 'weathersit_Mist_Cloudy']"
      ]
     },
     "execution_count": 63,
     "metadata": {},
     "output_type": "execute_result"
    }
   ],
   "source": [
    "columns"
   ]
  },
  {
   "cell_type": "code",
   "execution_count": 64,
   "id": "5d3dba3e",
   "metadata": {},
   "outputs": [
    {
     "name": "stdout",
     "output_type": "stream",
     "text": [
      "                            OLS Regression Results                            \n",
      "==============================================================================\n",
      "Dep. Variable:                    cnt   R-squared:                       0.838\n",
      "Model:                            OLS   Adj. R-squared:                  0.834\n",
      "Method:                 Least Squares   F-statistic:                     211.3\n",
      "Date:                Wed, 22 Dec 2021   Prob (F-statistic):          1.52e-200\n",
      "Time:                        20:24:26   Log-Likelihood:                -4424.1\n",
      "No. Observations:                 547   AIC:                             8876.\n",
      "Df Residuals:                     533   BIC:                             8937.\n",
      "Df Model:                          13                                         \n",
      "Covariance Type:            nonrobust                                         \n",
      "===============================================================================================================\n",
      "                                                  coef    std err          t      P>|t|      [0.025      0.975]\n",
      "---------------------------------------------------------------------------------------------------------------\n",
      "const                                        1697.1366    261.408      6.492      0.000    1183.621    2210.652\n",
      "yr                                           2018.6632     68.919     29.290      0.000    1883.276    2154.050\n",
      "holiday                                      -641.3148    225.564     -2.843      0.005   -1084.417    -198.212\n",
      "workingday                                    403.9119     97.481      4.143      0.000     212.417     595.406\n",
      "temp                                         3976.7438    261.776     15.191      0.000    3462.504    4490.983\n",
      "hum                                            83.1151    189.861      0.438      0.662    -289.852     456.082\n",
      "windspeed                                    -736.8764    169.104     -4.358      0.000   -1069.069    -404.684\n",
      "season_Spring                               -1012.2901    127.563     -7.936      0.000   -1262.878    -761.702\n",
      "season_Winter                                 452.0745    105.764      4.274      0.000     244.309     659.840\n",
      "mnth_Jul                                     -624.0876    149.328     -4.179      0.000    -917.431    -330.744\n",
      "mnth_Sept                                     476.9881    131.928      3.616      0.000     217.825     736.151\n",
      "weekday_Sat                                   473.7358    124.292      3.811      0.000     229.574     717.897\n",
      "weathersit_LightRain_LightSnow_Thunderstorm -2561.1539    215.995    -11.857      0.000   -2985.460   -2136.848\n",
      "weathersit_Mist_Cloudy                       -703.3292     75.952     -9.260      0.000    -852.531    -554.128\n",
      "==============================================================================\n",
      "Omnibus:                       67.141   Durbin-Watson:                   2.039\n",
      "Prob(Omnibus):                  0.000   Jarque-Bera (JB):              164.503\n",
      "Skew:                          -0.643   Prob(JB):                     1.90e-36\n",
      "Kurtosis:                       5.359   Cond. No.                         19.0\n",
      "==============================================================================\n",
      "\n",
      "Notes:\n",
      "[1] Standard Errors assume that the covariance matrix of the errors is correctly specified.\n"
     ]
    }
   ],
   "source": [
    "X_train_sm2 = sm.add_constant(X_train[columns])\n",
    "lm = sm.OLS(y_train, X_train_sm2).fit()\n",
    "print(lm.summary())"
   ]
  },
  {
   "cell_type": "code",
   "execution_count": 65,
   "id": "4ef03293",
   "metadata": {},
   "outputs": [
    {
     "name": "stdout",
     "output_type": "stream",
     "text": [
      "                                       Features    VIF\n",
      "4                                           hum  19.01\n",
      "3                                          temp  14.32\n",
      "2                                    workingday   5.01\n",
      "5                                     windspeed   4.50\n",
      "6                                 season_Spring   2.69\n",
      "0                                            yr   2.06\n",
      "7                                 season_Winter   2.05\n",
      "10                                  weekday_Sat   1.89\n",
      "12                       weathersit_Mist_Cloudy   1.73\n",
      "8                                      mnth_Jul   1.36\n",
      "9                                     mnth_Sept   1.20\n",
      "1                                       holiday   1.19\n",
      "11  weathersit_LightRain_LightSnow_Thunderstorm   1.10\n"
     ]
    }
   ],
   "source": [
    "vif = pd.DataFrame()\n",
    "vif['Features'] = X_train[columns].columns\n",
    "vif['VIF'] = [variance_inflation_factor(X_train[columns].values, i) for i in range(X_train[columns].shape[1])]\n",
    "vif['VIF'] = round(vif['VIF'],2)\n",
    "print(vif.sort_values(by='VIF',ascending=False))"
   ]
  },
  {
   "cell_type": "markdown",
   "id": "c83129e1",
   "metadata": {},
   "source": [
    "##### Model_3 - Dropping 'hum' variable from model_2"
   ]
  },
  {
   "cell_type": "code",
   "execution_count": 66,
   "id": "38cf60a0",
   "metadata": {},
   "outputs": [],
   "source": [
    "columns = ['yr', 'holiday', 'workingday', 'temp', 'windspeed',\n",
    "       'season_Spring', 'season_Winter', 'mnth_Jul', 'mnth_Sept',\n",
    "       'weekday_Sat', 'weathersit_LightRain_LightSnow_Thunderstorm',\n",
    "       'weathersit_Mist_Cloudy']"
   ]
  },
  {
   "cell_type": "code",
   "execution_count": 67,
   "id": "33dcc844",
   "metadata": {},
   "outputs": [
    {
     "data": {
      "text/plain": [
       "['yr',\n",
       " 'holiday',\n",
       " 'workingday',\n",
       " 'temp',\n",
       " 'windspeed',\n",
       " 'season_Spring',\n",
       " 'season_Winter',\n",
       " 'mnth_Jul',\n",
       " 'mnth_Sept',\n",
       " 'weekday_Sat',\n",
       " 'weathersit_LightRain_LightSnow_Thunderstorm',\n",
       " 'weathersit_Mist_Cloudy']"
      ]
     },
     "execution_count": 67,
     "metadata": {},
     "output_type": "execute_result"
    }
   ],
   "source": [
    "columns"
   ]
  },
  {
   "cell_type": "code",
   "execution_count": 68,
   "id": "6125fb1b",
   "metadata": {},
   "outputs": [
    {
     "name": "stdout",
     "output_type": "stream",
     "text": [
      "                            OLS Regression Results                            \n",
      "==============================================================================\n",
      "Dep. Variable:                    cnt   R-squared:                       0.837\n",
      "Model:                            OLS   Adj. R-squared:                  0.834\n",
      "Method:                 Least Squares   F-statistic:                     229.2\n",
      "Date:                Wed, 22 Dec 2021   Prob (F-statistic):          1.08e-201\n",
      "Time:                        20:24:26   Log-Likelihood:                -4424.2\n",
      "No. Observations:                 547   AIC:                             8874.\n",
      "Df Residuals:                     534   BIC:                             8930.\n",
      "Df Model:                          12                                         \n",
      "Covariance Type:            nonrobust                                         \n",
      "===============================================================================================================\n",
      "                                                  coef    std err          t      P>|t|      [0.025      0.975]\n",
      "---------------------------------------------------------------------------------------------------------------\n",
      "const                                        1761.9306    215.306      8.183      0.000    1338.979    2184.882\n",
      "yr                                           2017.0099     68.764     29.332      0.000    1881.929    2152.090\n",
      "holiday                                      -640.6450    225.388     -2.842      0.005   -1083.400    -197.890\n",
      "workingday                                    403.1928     97.394      4.140      0.000     211.871     594.514\n",
      "temp                                         4001.1690    255.567     15.656      0.000    3499.128    4503.210\n",
      "windspeed                                    -751.2543    165.758     -4.532      0.000   -1076.873    -425.636\n",
      "season_Spring                               -1006.2498    126.719     -7.941      0.000   -1255.178    -757.322\n",
      "season_Winter                                 461.3903    103.523      4.457      0.000     258.029     664.752\n",
      "mnth_Jul                                     -628.1550    148.926     -4.218      0.000    -920.707    -335.603\n",
      "mnth_Sept                                     478.4040    131.789      3.630      0.000     219.516     737.292\n",
      "weekday_Sat                                   471.9900    124.134      3.802      0.000     228.140     715.840\n",
      "weathersit_LightRain_LightSnow_Thunderstorm -2551.0017    214.584    -11.888      0.000   -2972.533   -2129.470\n",
      "weathersit_Mist_Cloudy                       -694.2697     73.023     -9.508      0.000    -837.717    -550.823\n",
      "==============================================================================\n",
      "Omnibus:                       67.147   Durbin-Watson:                   2.040\n",
      "Prob(Omnibus):                  0.000   Jarque-Bera (JB):              164.627\n",
      "Skew:                          -0.642   Prob(JB):                     1.79e-36\n",
      "Kurtosis:                       5.361   Cond. No.                         16.1\n",
      "==============================================================================\n",
      "\n",
      "Notes:\n",
      "[1] Standard Errors assume that the covariance matrix of the errors is correctly specified.\n"
     ]
    }
   ],
   "source": [
    "X_train_sm3 = sm.add_constant(X_train[columns])\n",
    "lm = sm.OLS(y_train, X_train_sm3).fit()\n",
    "print(lm.summary())"
   ]
  },
  {
   "cell_type": "code",
   "execution_count": 69,
   "id": "42b7dfd4",
   "metadata": {},
   "outputs": [
    {
     "name": "stdout",
     "output_type": "stream",
     "text": [
      "                                       Features   VIF\n",
      "3                                          temp  6.63\n",
      "2                                    workingday  4.83\n",
      "4                                     windspeed  4.47\n",
      "0                                            yr  2.06\n",
      "5                                 season_Spring  1.88\n",
      "9                                   weekday_Sat  1.86\n",
      "11                       weathersit_Mist_Cloudy  1.57\n",
      "6                                 season_Winter  1.49\n",
      "7                                      mnth_Jul  1.34\n",
      "8                                     mnth_Sept  1.20\n",
      "1                                       holiday  1.18\n",
      "10  weathersit_LightRain_LightSnow_Thunderstorm  1.09\n"
     ]
    }
   ],
   "source": [
    "vif = pd.DataFrame()\n",
    "vif['Features'] = X_train[columns].columns\n",
    "vif['VIF'] = [variance_inflation_factor(X_train[columns].values, i) for i in range(X_train[columns].shape[1])]\n",
    "vif['VIF'] = round(vif['VIF'],2)\n",
    "print(vif.sort_values(by='VIF',ascending=False))"
   ]
  },
  {
   "cell_type": "markdown",
   "id": "721ef2b1",
   "metadata": {},
   "source": [
    "##### Model_4 - Dropping 'holiday' column from model_3"
   ]
  },
  {
   "cell_type": "code",
   "execution_count": 70,
   "id": "32d50fb7",
   "metadata": {},
   "outputs": [],
   "source": [
    "columns = ['yr', 'workingday', 'temp', 'windspeed',\n",
    "       'season_Spring', 'season_Winter', 'mnth_Jul', 'mnth_Sept',\n",
    "       'weekday_Sat', 'weathersit_LightRain_LightSnow_Thunderstorm',\n",
    "       'weathersit_Mist_Cloudy']"
   ]
  },
  {
   "cell_type": "code",
   "execution_count": 71,
   "id": "c26597dc",
   "metadata": {},
   "outputs": [
    {
     "data": {
      "text/plain": [
       "['yr',\n",
       " 'workingday',\n",
       " 'temp',\n",
       " 'windspeed',\n",
       " 'season_Spring',\n",
       " 'season_Winter',\n",
       " 'mnth_Jul',\n",
       " 'mnth_Sept',\n",
       " 'weekday_Sat',\n",
       " 'weathersit_LightRain_LightSnow_Thunderstorm',\n",
       " 'weathersit_Mist_Cloudy']"
      ]
     },
     "execution_count": 71,
     "metadata": {},
     "output_type": "execute_result"
    }
   ],
   "source": [
    "columns"
   ]
  },
  {
   "cell_type": "code",
   "execution_count": 72,
   "id": "01540201",
   "metadata": {},
   "outputs": [
    {
     "name": "stdout",
     "output_type": "stream",
     "text": [
      "                            OLS Regression Results                            \n",
      "==============================================================================\n",
      "Dep. Variable:                    cnt   R-squared:                       0.835\n",
      "Model:                            OLS   Adj. R-squared:                  0.832\n",
      "Method:                 Least Squares   F-statistic:                     246.1\n",
      "Date:                Wed, 22 Dec 2021   Prob (F-statistic):          3.65e-201\n",
      "Time:                        20:24:26   Log-Likelihood:                -4428.4\n",
      "No. Observations:                 547   AIC:                             8881.\n",
      "Df Residuals:                     535   BIC:                             8932.\n",
      "Df Model:                          11                                         \n",
      "Covariance Type:            nonrobust                                         \n",
      "===============================================================================================================\n",
      "                                                  coef    std err          t      P>|t|      [0.025      0.975]\n",
      "---------------------------------------------------------------------------------------------------------------\n",
      "const                                        1684.5771    214.988      7.836      0.000    1262.253    2106.901\n",
      "yr                                           2013.5861     69.207     29.095      0.000    1877.636    2149.536\n",
      "workingday                                    499.2465     91.945      5.430      0.000     318.628     679.865\n",
      "temp                                         4003.6461    257.251     15.563      0.000    3498.300    4508.993\n",
      "windspeed                                    -776.8451    166.605     -4.663      0.000   -1104.126    -449.565\n",
      "season_Spring                               -1024.9404    127.382     -8.046      0.000   -1275.171    -774.710\n",
      "season_Winter                                 447.1925    104.084      4.296      0.000     242.729     651.656\n",
      "mnth_Jul                                     -621.5184    149.889     -4.147      0.000    -915.962    -327.075\n",
      "mnth_Sept                                     455.5786    132.411      3.441      0.001     195.469     715.688\n",
      "weekday_Sat                                   569.5804    120.078      4.743      0.000     333.699     805.462\n",
      "weathersit_LightRain_LightSnow_Thunderstorm -2536.6417    215.939    -11.747      0.000   -2960.834   -2112.450\n",
      "weathersit_Mist_Cloudy                       -690.4203     73.492     -9.395      0.000    -834.788    -546.053\n",
      "==============================================================================\n",
      "Omnibus:                       72.903   Durbin-Watson:                   2.031\n",
      "Prob(Omnibus):                  0.000   Jarque-Bera (JB):              182.790\n",
      "Skew:                          -0.688   Prob(JB):                     2.03e-40\n",
      "Kurtosis:                       5.476   Cond. No.                         16.1\n",
      "==============================================================================\n",
      "\n",
      "Notes:\n",
      "[1] Standard Errors assume that the covariance matrix of the errors is correctly specified.\n"
     ]
    }
   ],
   "source": [
    "X_train_sm4 = sm.add_constant(X_train[columns])\n",
    "lm = sm.OLS(y_train, X_train_sm4).fit()\n",
    "print(lm.summary())"
   ]
  },
  {
   "cell_type": "code",
   "execution_count": 73,
   "id": "693e3348",
   "metadata": {},
   "outputs": [
    {
     "name": "stdout",
     "output_type": "stream",
     "text": [
      "                                       Features   VIF\n",
      "2                                          temp  6.45\n",
      "3                                     windspeed  4.41\n",
      "1                                    workingday  4.32\n",
      "0                                            yr  2.06\n",
      "4                                 season_Spring  1.81\n",
      "8                                   weekday_Sat  1.74\n",
      "10                       weathersit_Mist_Cloudy  1.57\n",
      "5                                 season_Winter  1.45\n",
      "6                                      mnth_Jul  1.34\n",
      "7                                     mnth_Sept  1.20\n",
      "9   weathersit_LightRain_LightSnow_Thunderstorm  1.09\n"
     ]
    }
   ],
   "source": [
    "vif = pd.DataFrame()\n",
    "vif['Features'] = X_train[columns].columns\n",
    "vif['VIF'] = [variance_inflation_factor(X_train[columns].values, i) for i in range(X_train[columns].shape[1])]\n",
    "vif['VIF'] = round(vif['VIF'],2)\n",
    "print(vif.sort_values(by='VIF',ascending=False))"
   ]
  },
  {
   "cell_type": "markdown",
   "id": "c8a4ecc5",
   "metadata": {},
   "source": [
    "##### Model_5 - Dropping 'temp' column from model_4"
   ]
  },
  {
   "cell_type": "code",
   "execution_count": 74,
   "id": "a7d97413",
   "metadata": {},
   "outputs": [],
   "source": [
    "columns = ['yr', 'workingday', 'windspeed',\n",
    "       'season_Spring', 'season_Winter', 'mnth_Jul', 'mnth_Sept',\n",
    "       'weekday_Sat', 'weathersit_LightRain_LightSnow_Thunderstorm',\n",
    "       'weathersit_Mist_Cloudy']"
   ]
  },
  {
   "cell_type": "code",
   "execution_count": 75,
   "id": "8f668ea7",
   "metadata": {},
   "outputs": [
    {
     "data": {
      "text/plain": [
       "['yr',\n",
       " 'workingday',\n",
       " 'windspeed',\n",
       " 'season_Spring',\n",
       " 'season_Winter',\n",
       " 'mnth_Jul',\n",
       " 'mnth_Sept',\n",
       " 'weekday_Sat',\n",
       " 'weathersit_LightRain_LightSnow_Thunderstorm',\n",
       " 'weathersit_Mist_Cloudy']"
      ]
     },
     "execution_count": 75,
     "metadata": {},
     "output_type": "execute_result"
    }
   ],
   "source": [
    "columns"
   ]
  },
  {
   "cell_type": "code",
   "execution_count": 76,
   "id": "84cc3551",
   "metadata": {},
   "outputs": [
    {
     "name": "stdout",
     "output_type": "stream",
     "text": [
      "                            OLS Regression Results                            \n",
      "==============================================================================\n",
      "Dep. Variable:                    cnt   R-squared:                       0.760\n",
      "Model:                            OLS   Adj. R-squared:                  0.756\n",
      "Method:                 Least Squares   F-statistic:                     170.0\n",
      "Date:                Wed, 22 Dec 2021   Prob (F-statistic):          4.35e-159\n",
      "Time:                        20:24:26   Log-Likelihood:                -4530.5\n",
      "No. Observations:                 547   AIC:                             9083.\n",
      "Df Residuals:                     536   BIC:                             9130.\n",
      "Df Model:                          10                                         \n",
      "Covariance Type:            nonrobust                                         \n",
      "===============================================================================================================\n",
      "                                                  coef    std err          t      P>|t|      [0.025      0.975]\n",
      "---------------------------------------------------------------------------------------------------------------\n",
      "const                                        4403.1306    150.917     29.176      0.000    4106.670    4699.592\n",
      "yr                                           2126.3065     82.879     25.656      0.000    1963.500    2289.113\n",
      "workingday                                    538.3316    110.676      4.864      0.000     320.919     755.744\n",
      "windspeed                                   -1082.5123    199.222     -5.434      0.000   -1473.864    -691.161\n",
      "season_Spring                               -2454.8938    106.242    -23.107      0.000   -2663.595   -2246.193\n",
      "season_Winter                                -403.0765    106.680     -3.778      0.000    -612.639    -193.514\n",
      "mnth_Jul                                      154.7310    170.206      0.909      0.364    -179.621     489.083\n",
      "mnth_Sept                                     790.1868    157.329      5.022      0.000     481.129    1099.245\n",
      "weekday_Sat                                   557.2728    144.591      3.854      0.000     273.239     841.307\n",
      "weathersit_LightRain_LightSnow_Thunderstorm -2635.8058    259.914    -10.141      0.000   -3146.380   -2125.232\n",
      "weathersit_Mist_Cloudy                       -769.9224     88.282     -8.721      0.000    -943.344    -596.501\n",
      "==============================================================================\n",
      "Omnibus:                       36.574   Durbin-Watson:                   2.055\n",
      "Prob(Omnibus):                  0.000   Jarque-Bera (JB):               69.609\n",
      "Skew:                          -0.423   Prob(JB):                     7.67e-16\n",
      "Kurtosis:                       4.530   Cond. No.                         9.73\n",
      "==============================================================================\n",
      "\n",
      "Notes:\n",
      "[1] Standard Errors assume that the covariance matrix of the errors is correctly specified.\n"
     ]
    }
   ],
   "source": [
    "X_train_sm5 = sm.add_constant(X_train[columns])\n",
    "lm = sm.OLS(y_train, X_train_sm5).fit()\n",
    "print(lm.summary())"
   ]
  },
  {
   "cell_type": "code",
   "execution_count": 77,
   "id": "0a32fbcf",
   "metadata": {},
   "outputs": [
    {
     "name": "stdout",
     "output_type": "stream",
     "text": [
      "                                      Features   VIF\n",
      "2                                    windspeed  3.57\n",
      "1                                   workingday  3.17\n",
      "0                                           yr  1.89\n",
      "3                                season_Spring  1.57\n",
      "9                       weathersit_Mist_Cloudy  1.55\n",
      "7                                  weekday_Sat  1.53\n",
      "4                                season_Winter  1.44\n",
      "5                                     mnth_Jul  1.14\n",
      "6                                    mnth_Sept  1.12\n",
      "8  weathersit_LightRain_LightSnow_Thunderstorm  1.08\n"
     ]
    }
   ],
   "source": [
    "vif = pd.DataFrame()\n",
    "vif['Features'] = X_train[columns].columns\n",
    "vif['VIF'] = [variance_inflation_factor(X_train[columns].values, i) for i in range(X_train[columns].shape[1])]\n",
    "vif['VIF'] = round(vif['VIF'],2)\n",
    "print(vif.sort_values(by='VIF',ascending=False))"
   ]
  },
  {
   "cell_type": "markdown",
   "id": "15011363",
   "metadata": {},
   "source": [
    "##### Model_6 - Dropping 'mnth_Jul' column from model_5"
   ]
  },
  {
   "cell_type": "code",
   "execution_count": 78,
   "id": "0d2638a1",
   "metadata": {},
   "outputs": [],
   "source": [
    "columns = ['yr', 'workingday', 'windspeed',\n",
    "       'season_Spring', 'season_Winter', 'mnth_Sept',\n",
    "       'weekday_Sat', 'weathersit_LightRain_LightSnow_Thunderstorm',\n",
    "       'weathersit_Mist_Cloudy']"
   ]
  },
  {
   "cell_type": "code",
   "execution_count": 79,
   "id": "b15cdd31",
   "metadata": {},
   "outputs": [
    {
     "data": {
      "text/plain": [
       "['yr',\n",
       " 'workingday',\n",
       " 'windspeed',\n",
       " 'season_Spring',\n",
       " 'season_Winter',\n",
       " 'mnth_Sept',\n",
       " 'weekday_Sat',\n",
       " 'weathersit_LightRain_LightSnow_Thunderstorm',\n",
       " 'weathersit_Mist_Cloudy']"
      ]
     },
     "execution_count": 79,
     "metadata": {},
     "output_type": "execute_result"
    }
   ],
   "source": [
    "columns"
   ]
  },
  {
   "cell_type": "code",
   "execution_count": 80,
   "id": "c3b55b5c",
   "metadata": {},
   "outputs": [
    {
     "name": "stdout",
     "output_type": "stream",
     "text": [
      "                            OLS Regression Results                            \n",
      "==============================================================================\n",
      "Dep. Variable:                    cnt   R-squared:                       0.760\n",
      "Model:                            OLS   Adj. R-squared:                  0.756\n",
      "Method:                 Least Squares   F-statistic:                     188.8\n",
      "Date:                Wed, 22 Dec 2021   Prob (F-statistic):          4.64e-160\n",
      "Time:                        20:24:26   Log-Likelihood:                -4530.9\n",
      "No. Observations:                 547   AIC:                             9082.\n",
      "Df Residuals:                     537   BIC:                             9125.\n",
      "Df Model:                           9                                         \n",
      "Covariance Type:            nonrobust                                         \n",
      "===============================================================================================================\n",
      "                                                  coef    std err          t      P>|t|      [0.025      0.975]\n",
      "---------------------------------------------------------------------------------------------------------------\n",
      "const                                        4436.7795    146.284     30.330      0.000    4149.421    4724.138\n",
      "yr                                           2127.1838     82.860     25.672      0.000    1964.415    2289.953\n",
      "workingday                                    536.7209    110.644      4.851      0.000     319.372     754.070\n",
      "windspeed                                   -1096.3425    198.608     -5.520      0.000   -1486.487    -706.199\n",
      "season_Spring                               -2478.6537    102.960    -24.074      0.000   -2680.907   -2276.400\n",
      "season_Winter                                -426.5746    103.485     -4.122      0.000    -629.859    -223.290\n",
      "mnth_Sept                                     770.5678    155.817      4.945      0.000     464.482    1076.654\n",
      "weekday_Sat                                   557.7463    144.566      3.858      0.000     273.761     841.731\n",
      "weathersit_LightRain_LightSnow_Thunderstorm -2632.2616    259.842    -10.130      0.000   -3142.694   -2121.829\n",
      "weathersit_Mist_Cloudy                       -777.8634     87.835     -8.856      0.000    -950.405    -605.322\n",
      "==============================================================================\n",
      "Omnibus:                       37.149   Durbin-Watson:                   2.049\n",
      "Prob(Omnibus):                  0.000   Jarque-Bera (JB):               70.732\n",
      "Skew:                          -0.429   Prob(JB):                     4.37e-16\n",
      "Kurtosis:                       4.539   Cond. No.                         9.68\n",
      "==============================================================================\n",
      "\n",
      "Notes:\n",
      "[1] Standard Errors assume that the covariance matrix of the errors is correctly specified.\n"
     ]
    }
   ],
   "source": [
    "X_train_sm6 = sm.add_constant(X_train[columns])\n",
    "lm = sm.OLS(y_train, X_train_sm6).fit()\n",
    "print(lm.summary())"
   ]
  },
  {
   "cell_type": "code",
   "execution_count": 81,
   "id": "8d7b90dc",
   "metadata": {},
   "outputs": [
    {
     "name": "stdout",
     "output_type": "stream",
     "text": [
      "                                      Features   VIF\n",
      "2                                    windspeed  3.55\n",
      "1                                   workingday  3.09\n",
      "0                                           yr  1.88\n",
      "8                       weathersit_Mist_Cloudy  1.55\n",
      "3                                season_Spring  1.51\n",
      "6                                  weekday_Sat  1.51\n",
      "4                                season_Winter  1.40\n",
      "5                                    mnth_Sept  1.11\n",
      "7  weathersit_LightRain_LightSnow_Thunderstorm  1.08\n"
     ]
    }
   ],
   "source": [
    "vif = pd.DataFrame()\n",
    "vif['Features'] = X_train[columns].columns\n",
    "vif['VIF'] = [variance_inflation_factor(X_train[columns].values, i) for i in range(X_train[columns].shape[1])]\n",
    "vif['VIF'] = round(vif['VIF'],2)\n",
    "print(vif.sort_values(by='VIF',ascending=False))"
   ]
  },
  {
   "cell_type": "markdown",
   "id": "5a78374c",
   "metadata": {},
   "source": [
    "##### Model_7 - Dropping 'windspeed' column from model_6"
   ]
  },
  {
   "cell_type": "code",
   "execution_count": 82,
   "id": "3bf45e59",
   "metadata": {},
   "outputs": [],
   "source": [
    "columns = ['yr', 'workingday', \n",
    "       'season_Spring', 'season_Winter', 'mnth_Sept',\n",
    "       'weekday_Sat', 'weathersit_LightRain_LightSnow_Thunderstorm',\n",
    "       'weathersit_Mist_Cloudy']"
   ]
  },
  {
   "cell_type": "code",
   "execution_count": 83,
   "id": "c6f10ddf",
   "metadata": {},
   "outputs": [
    {
     "data": {
      "text/plain": [
       "['yr',\n",
       " 'workingday',\n",
       " 'season_Spring',\n",
       " 'season_Winter',\n",
       " 'mnth_Sept',\n",
       " 'weekday_Sat',\n",
       " 'weathersit_LightRain_LightSnow_Thunderstorm',\n",
       " 'weathersit_Mist_Cloudy']"
      ]
     },
     "execution_count": 83,
     "metadata": {},
     "output_type": "execute_result"
    }
   ],
   "source": [
    "columns"
   ]
  },
  {
   "cell_type": "code",
   "execution_count": 84,
   "id": "c15ca8be",
   "metadata": {},
   "outputs": [
    {
     "name": "stdout",
     "output_type": "stream",
     "text": [
      "                            OLS Regression Results                            \n",
      "==============================================================================\n",
      "Dep. Variable:                    cnt   R-squared:                       0.746\n",
      "Model:                            OLS   Adj. R-squared:                  0.743\n",
      "Method:                 Least Squares   F-statistic:                     197.8\n",
      "Date:                Wed, 22 Dec 2021   Prob (F-statistic):          8.18e-155\n",
      "Time:                        20:24:26   Log-Likelihood:                -4546.0\n",
      "No. Observations:                 547   AIC:                             9110.\n",
      "Df Residuals:                     538   BIC:                             9149.\n",
      "Df Model:                           8                                         \n",
      "Covariance Type:            nonrobust                                         \n",
      "===============================================================================================================\n",
      "                                                  coef    std err          t      P>|t|      [0.025      0.975]\n",
      "---------------------------------------------------------------------------------------------------------------\n",
      "const                                        3974.1490    123.137     32.274      0.000    3732.261    4216.036\n",
      "yr                                           2128.2480     85.099     25.009      0.000    1961.081    2295.415\n",
      "workingday                                    538.2982    113.634      4.737      0.000     315.077     761.519\n",
      "season_Spring                               -2533.2033    105.254    -24.067      0.000   -2739.963   -2326.443\n",
      "season_Winter                                -383.2940    105.976     -3.617      0.000    -591.472    -175.116\n",
      "mnth_Sept                                     852.5181    159.300      5.352      0.000     539.592    1165.444\n",
      "weekday_Sat                                   539.5028    148.434      3.635      0.000     247.921     831.085\n",
      "weathersit_LightRain_LightSnow_Thunderstorm -2809.9693    264.809    -10.611      0.000   -3330.155   -2289.784\n",
      "weathersit_Mist_Cloudy                       -789.0862     90.184     -8.750      0.000    -966.243    -611.930\n",
      "==============================================================================\n",
      "Omnibus:                       42.637   Durbin-Watson:                   2.066\n",
      "Prob(Omnibus):                  0.000   Jarque-Bera (JB):               98.089\n",
      "Skew:                          -0.424   Prob(JB):                     5.01e-22\n",
      "Kurtosis:                       4.893   Cond. No.                         9.06\n",
      "==============================================================================\n",
      "\n",
      "Notes:\n",
      "[1] Standard Errors assume that the covariance matrix of the errors is correctly specified.\n"
     ]
    }
   ],
   "source": [
    "X_train_sm7 = sm.add_constant(X_train[columns])\n",
    "lm = sm.OLS(y_train, X_train_sm7).fit()\n",
    "print(lm.summary())"
   ]
  },
  {
   "cell_type": "code",
   "execution_count": 85,
   "id": "002b539c",
   "metadata": {},
   "outputs": [
    {
     "name": "stdout",
     "output_type": "stream",
     "text": [
      "                                      Features   VIF\n",
      "1                                   workingday  2.27\n",
      "0                                           yr  1.80\n",
      "7                       weathersit_Mist_Cloudy  1.52\n",
      "2                                season_Spring  1.38\n",
      "3                                season_Winter  1.38\n",
      "5                                  weekday_Sat  1.30\n",
      "4                                    mnth_Sept  1.11\n",
      "6  weathersit_LightRain_LightSnow_Thunderstorm  1.07\n"
     ]
    }
   ],
   "source": [
    "vif = pd.DataFrame()\n",
    "vif['Features'] = X_train[columns].columns\n",
    "vif['VIF'] = [variance_inflation_factor(X_train[columns].values, i) for i in range(X_train[columns].shape[1])]\n",
    "vif['VIF'] = round(vif['VIF'],2)\n",
    "print(vif.sort_values(by='VIF',ascending=False))"
   ]
  },
  {
   "cell_type": "markdown",
   "id": "432d0f54",
   "metadata": {},
   "source": [
    "##### Model_8 - Dropping 'workingday' column from model_7"
   ]
  },
  {
   "cell_type": "code",
   "execution_count": 86,
   "id": "22e10a78",
   "metadata": {},
   "outputs": [],
   "source": [
    "columns = ['yr','season_Spring', 'season_Winter', 'mnth_Sept',\n",
    "       'weekday_Sat', 'weathersit_LightRain_LightSnow_Thunderstorm',\n",
    "       'weathersit_Mist_Cloudy']"
   ]
  },
  {
   "cell_type": "code",
   "execution_count": 87,
   "id": "b0d3aff3",
   "metadata": {},
   "outputs": [
    {
     "data": {
      "text/plain": [
       "['yr',\n",
       " 'season_Spring',\n",
       " 'season_Winter',\n",
       " 'mnth_Sept',\n",
       " 'weekday_Sat',\n",
       " 'weathersit_LightRain_LightSnow_Thunderstorm',\n",
       " 'weathersit_Mist_Cloudy']"
      ]
     },
     "execution_count": 87,
     "metadata": {},
     "output_type": "execute_result"
    }
   ],
   "source": [
    "columns"
   ]
  },
  {
   "cell_type": "code",
   "execution_count": 88,
   "id": "d6985a44",
   "metadata": {},
   "outputs": [
    {
     "name": "stdout",
     "output_type": "stream",
     "text": [
      "                            OLS Regression Results                            \n",
      "==============================================================================\n",
      "Dep. Variable:                    cnt   R-squared:                       0.736\n",
      "Model:                            OLS   Adj. R-squared:                  0.732\n",
      "Method:                 Least Squares   F-statistic:                     214.3\n",
      "Date:                Wed, 22 Dec 2021   Prob (F-statistic):          3.07e-151\n",
      "Time:                        20:24:26   Log-Likelihood:                -4557.2\n",
      "No. Observations:                 547   AIC:                             9130.\n",
      "Df Residuals:                     539   BIC:                             9165.\n",
      "Df Model:                           7                                         \n",
      "Covariance Type:            nonrobust                                         \n",
      "===============================================================================================================\n",
      "                                                  coef    std err          t      P>|t|      [0.025      0.975]\n",
      "---------------------------------------------------------------------------------------------------------------\n",
      "const                                        4397.5886     86.358     50.923      0.000    4227.948    4567.229\n",
      "yr                                           2137.5020     86.752     24.639      0.000    1967.089    2307.915\n",
      "season_Spring                               -2567.7431    107.069    -23.982      0.000   -2778.068   -2357.418\n",
      "season_Winter                                -411.5828    107.892     -3.815      0.000    -623.522    -199.643\n",
      "mnth_Sept                                     848.8417    162.436      5.226      0.000     529.757    1167.926\n",
      "weekday_Sat                                   115.4704    120.739      0.956      0.339    -121.707     352.647\n",
      "weathersit_LightRain_LightSnow_Thunderstorm -2736.7523    269.564    -10.153      0.000   -3266.276   -2207.228\n",
      "weathersit_Mist_Cloudy                       -759.0231     91.733     -8.274      0.000    -939.220    -578.826\n",
      "==============================================================================\n",
      "Omnibus:                       44.747   Durbin-Watson:                   2.036\n",
      "Prob(Omnibus):                  0.000   Jarque-Bera (JB):               94.443\n",
      "Skew:                          -0.475   Prob(JB):                     3.10e-21\n",
      "Kurtosis:                       4.800   Cond. No.                         7.95\n",
      "==============================================================================\n",
      "\n",
      "Notes:\n",
      "[1] Standard Errors assume that the covariance matrix of the errors is correctly specified.\n"
     ]
    }
   ],
   "source": [
    "X_train_sm8 = sm.add_constant(X_train[columns])\n",
    "lm = sm.OLS(y_train, X_train_sm8).fit()\n",
    "print(lm.summary())"
   ]
  },
  {
   "cell_type": "code",
   "execution_count": 89,
   "id": "3803adc8",
   "metadata": {},
   "outputs": [
    {
     "name": "stdout",
     "output_type": "stream",
     "text": [
      "                                      Features   VIF\n",
      "0                                           yr  1.47\n",
      "6                       weathersit_Mist_Cloudy  1.38\n",
      "2                                season_Winter  1.28\n",
      "1                                season_Spring  1.26\n",
      "4                                  weekday_Sat  1.14\n",
      "3                                    mnth_Sept  1.09\n",
      "5  weathersit_LightRain_LightSnow_Thunderstorm  1.05\n"
     ]
    }
   ],
   "source": [
    "vif = pd.DataFrame()\n",
    "vif['Features'] = X_train[columns].columns\n",
    "vif['VIF'] = [variance_inflation_factor(X_train[columns].values, i) for i in range(X_train[columns].shape[1])]\n",
    "vif['VIF'] = round(vif['VIF'],2)\n",
    "print(vif.sort_values(by='VIF',ascending=False))"
   ]
  },
  {
   "cell_type": "markdown",
   "id": "c6eb99e3",
   "metadata": {},
   "source": [
    "##### Model_9 - Adding column 'temp' to the model number 9"
   ]
  },
  {
   "cell_type": "code",
   "execution_count": 90,
   "id": "3157c161",
   "metadata": {},
   "outputs": [],
   "source": [
    "columns = ['yr','season_Spring', 'season_Winter', 'mnth_Sept',\n",
    "       'weekday_Sat', 'weathersit_LightRain_LightSnow_Thunderstorm',\n",
    "       'weathersit_Mist_Cloudy', 'temp']"
   ]
  },
  {
   "cell_type": "code",
   "execution_count": 91,
   "id": "0a32b44d",
   "metadata": {},
   "outputs": [
    {
     "data": {
      "text/plain": [
       "['yr',\n",
       " 'season_Spring',\n",
       " 'season_Winter',\n",
       " 'mnth_Sept',\n",
       " 'weekday_Sat',\n",
       " 'weathersit_LightRain_LightSnow_Thunderstorm',\n",
       " 'weathersit_Mist_Cloudy',\n",
       " 'temp']"
      ]
     },
     "execution_count": 91,
     "metadata": {},
     "output_type": "execute_result"
    }
   ],
   "source": [
    "columns"
   ]
  },
  {
   "cell_type": "code",
   "execution_count": 92,
   "id": "559ae8bb",
   "metadata": {},
   "outputs": [
    {
     "name": "stdout",
     "output_type": "stream",
     "text": [
      "                            OLS Regression Results                            \n",
      "==============================================================================\n",
      "Dep. Variable:                    cnt   R-squared:                       0.814\n",
      "Model:                            OLS   Adj. R-squared:                  0.811\n",
      "Method:                 Least Squares   F-statistic:                     294.1\n",
      "Date:                Wed, 22 Dec 2021   Prob (F-statistic):          6.43e-191\n",
      "Time:                        20:24:26   Log-Likelihood:                -4461.2\n",
      "No. Observations:                 547   AIC:                             8940.\n",
      "Df Residuals:                     538   BIC:                             8979.\n",
      "Df Model:                           8                                         \n",
      "Covariance Type:            nonrobust                                         \n",
      "===============================================================================================================\n",
      "                                                  coef    std err          t      P>|t|      [0.025      0.975]\n",
      "---------------------------------------------------------------------------------------------------------------\n",
      "const                                        1765.8091    189.449      9.321      0.000    1393.659    2137.959\n",
      "yr                                           2024.7084     73.245     27.643      0.000    1880.826    2168.590\n",
      "season_Spring                               -1067.5281    134.311     -7.948      0.000   -1331.367    -803.689\n",
      "season_Winter                                 501.0690    109.062      4.594      0.000     286.829     715.309\n",
      "mnth_Sept                                     596.5467    137.453      4.340      0.000     326.537     866.556\n",
      "weekday_Sat                                   154.6722    101.439      1.525      0.128     -44.592     353.937\n",
      "weathersit_LightRain_LightSnow_Thunderstorm -2604.9818    226.568    -11.498      0.000   -3050.048   -2159.915\n",
      "weathersit_Mist_Cloudy                       -642.9902     77.429     -8.304      0.000    -795.090    -490.890\n",
      "temp                                         3826.0875    254.437     15.037      0.000    3326.276    4325.899\n",
      "==============================================================================\n",
      "Omnibus:                       85.278   Durbin-Watson:                   2.020\n",
      "Prob(Omnibus):                  0.000   Jarque-Bera (JB):              208.555\n",
      "Skew:                          -0.807   Prob(JB):                     5.16e-46\n",
      "Kurtosis:                       5.559   Cond. No.                         12.8\n",
      "==============================================================================\n",
      "\n",
      "Notes:\n",
      "[1] Standard Errors assume that the covariance matrix of the errors is correctly specified.\n"
     ]
    }
   ],
   "source": [
    "X_train_sm9 = sm.add_constant(X_train[columns])\n",
    "lm = sm.OLS(y_train, X_train_sm9).fit()\n",
    "print(lm.summary())"
   ]
  },
  {
   "cell_type": "code",
   "execution_count": 93,
   "id": "cf49fb40",
   "metadata": {},
   "outputs": [
    {
     "name": "stdout",
     "output_type": "stream",
     "text": [
      "                                      Features   VIF\n",
      "7                                         temp  2.43\n",
      "0                                           yr  2.04\n",
      "6                       weathersit_Mist_Cloudy  1.51\n",
      "2                                season_Winter  1.30\n",
      "1                                season_Spring  1.26\n",
      "4                                  weekday_Sat  1.17\n",
      "3                                    mnth_Sept  1.15\n",
      "5  weathersit_LightRain_LightSnow_Thunderstorm  1.06\n"
     ]
    }
   ],
   "source": [
    "vif = pd.DataFrame()\n",
    "vif['Features'] = X_train[columns].columns\n",
    "vif['VIF'] = [variance_inflation_factor(X_train[columns].values, i) for i in range(X_train[columns].shape[1])]\n",
    "vif['VIF'] = round(vif['VIF'],2)\n",
    "print(vif.sort_values(by='VIF',ascending=False))"
   ]
  },
  {
   "cell_type": "markdown",
   "id": "1ac96caf",
   "metadata": {},
   "source": [
    "##### Model_10 - Adding the column 'holiday' for the model number 10"
   ]
  },
  {
   "cell_type": "code",
   "execution_count": 94,
   "id": "8dffe54b",
   "metadata": {},
   "outputs": [],
   "source": [
    "columns = ['yr','season_Spring', 'season_Winter', 'mnth_Sept',\n",
    "       'weekday_Sat', 'weathersit_LightRain_LightSnow_Thunderstorm',\n",
    "       'weathersit_Mist_Cloudy', 'temp', 'holiday']"
   ]
  },
  {
   "cell_type": "code",
   "execution_count": 95,
   "id": "b75a7493",
   "metadata": {},
   "outputs": [
    {
     "data": {
      "text/plain": [
       "['yr',\n",
       " 'season_Spring',\n",
       " 'season_Winter',\n",
       " 'mnth_Sept',\n",
       " 'weekday_Sat',\n",
       " 'weathersit_LightRain_LightSnow_Thunderstorm',\n",
       " 'weathersit_Mist_Cloudy',\n",
       " 'temp',\n",
       " 'holiday']"
      ]
     },
     "execution_count": 95,
     "metadata": {},
     "output_type": "execute_result"
    }
   ],
   "source": [
    "columns"
   ]
  },
  {
   "cell_type": "code",
   "execution_count": 96,
   "id": "6481b66a",
   "metadata": {},
   "outputs": [
    {
     "name": "stdout",
     "output_type": "stream",
     "text": [
      "                            OLS Regression Results                            \n",
      "==============================================================================\n",
      "Dep. Variable:                    cnt   R-squared:                       0.821\n",
      "Model:                            OLS   Adj. R-squared:                  0.818\n",
      "Method:                 Least Squares   F-statistic:                     273.3\n",
      "Date:                Wed, 22 Dec 2021   Prob (F-statistic):          4.56e-194\n",
      "Time:                        20:24:26   Log-Likelihood:                -4450.9\n",
      "No. Observations:                 547   AIC:                             8922.\n",
      "Df Residuals:                     537   BIC:                             8965.\n",
      "Df Model:                           9                                         \n",
      "Covariance Type:            nonrobust                                         \n",
      "===============================================================================================================\n",
      "                                                  coef    std err          t      P>|t|      [0.025      0.975]\n",
      "---------------------------------------------------------------------------------------------------------------\n",
      "const                                        1798.9573    186.215      9.661      0.000    1433.157    2164.757\n",
      "yr                                           2028.0444     71.944     28.189      0.000    1886.718    2169.371\n",
      "season_Spring                               -1033.5510    132.129     -7.822      0.000   -1293.104    -773.998\n",
      "season_Winter                                 525.9564    107.258      4.904      0.000     315.259     736.654\n",
      "mnth_Sept                                     633.1089    135.242      4.681      0.000     367.440     898.777\n",
      "weekday_Sat                                   120.6445     99.912      1.208      0.228     -75.621     316.910\n",
      "weathersit_LightRain_LightSnow_Thunderstorm -2642.3585    222.682    -11.866      0.000   -3079.794   -2204.923\n",
      "weathersit_Mist_Cloudy                       -657.1646     76.113     -8.634      0.000    -806.680    -507.649\n",
      "temp                                         3800.0796    249.968     15.202      0.000    3309.044    4291.116\n",
      "holiday                                     -1005.5216    221.014     -4.550      0.000   -1439.679    -571.364\n",
      "==============================================================================\n",
      "Omnibus:                       77.235   Durbin-Watson:                   2.052\n",
      "Prob(Omnibus):                  0.000   Jarque-Bera (JB):              193.225\n",
      "Skew:                          -0.727   Prob(JB):                     1.10e-42\n",
      "Kurtosis:                       5.522   Cond. No.                         12.8\n",
      "==============================================================================\n",
      "\n",
      "Notes:\n",
      "[1] Standard Errors assume that the covariance matrix of the errors is correctly specified.\n"
     ]
    }
   ],
   "source": [
    "X_train_sm10 = sm.add_constant(X_train[columns])\n",
    "lm = sm.OLS(y_train, X_train_sm10).fit()\n",
    "print(lm.summary())"
   ]
  },
  {
   "cell_type": "code",
   "execution_count": 97,
   "id": "5a02634d",
   "metadata": {},
   "outputs": [
    {
     "name": "stdout",
     "output_type": "stream",
     "text": [
      "                                      Features   VIF\n",
      "7                                         temp  2.43\n",
      "0                                           yr  2.04\n",
      "6                       weathersit_Mist_Cloudy  1.51\n",
      "2                                season_Winter  1.31\n",
      "1                                season_Spring  1.29\n",
      "4                                  weekday_Sat  1.18\n",
      "3                                    mnth_Sept  1.15\n",
      "5  weathersit_LightRain_LightSnow_Thunderstorm  1.06\n",
      "8                                      holiday  1.05\n"
     ]
    }
   ],
   "source": [
    "vif = pd.DataFrame()\n",
    "vif['Features'] = X_train[columns].columns\n",
    "vif['VIF'] = [variance_inflation_factor(X_train[columns].values, i) for i in range(X_train[columns].shape[1])]\n",
    "vif['VIF'] = round(vif['VIF'],2)\n",
    "print(vif.sort_values(by='VIF',ascending=False))"
   ]
  },
  {
   "cell_type": "markdown",
   "id": "09edf52c",
   "metadata": {},
   "source": [
    "##### Model_11 - Dropping the variable 'weekday_Sat' and instead of that variable 'weekday_Sun' is utilized in model number 10"
   ]
  },
  {
   "cell_type": "code",
   "execution_count": 98,
   "id": "4779c83e",
   "metadata": {},
   "outputs": [],
   "source": [
    "columns = ['yr','season_Spring', 'season_Winter', 'mnth_Sept',\n",
    "       'weathersit_LightRain_LightSnow_Thunderstorm',\n",
    "       'weathersit_Mist_Cloudy', 'temp', 'holiday','weekday_Sun']"
   ]
  },
  {
   "cell_type": "code",
   "execution_count": 99,
   "id": "54823cdf",
   "metadata": {},
   "outputs": [
    {
     "data": {
      "text/plain": [
       "['yr',\n",
       " 'season_Spring',\n",
       " 'season_Winter',\n",
       " 'mnth_Sept',\n",
       " 'weathersit_LightRain_LightSnow_Thunderstorm',\n",
       " 'weathersit_Mist_Cloudy',\n",
       " 'temp',\n",
       " 'holiday',\n",
       " 'weekday_Sun']"
      ]
     },
     "execution_count": 99,
     "metadata": {},
     "output_type": "execute_result"
    }
   ],
   "source": [
    "columns"
   ]
  },
  {
   "cell_type": "code",
   "execution_count": 100,
   "id": "e7af193a",
   "metadata": {},
   "outputs": [
    {
     "name": "stdout",
     "output_type": "stream",
     "text": [
      "                            OLS Regression Results                            \n",
      "==============================================================================\n",
      "Dep. Variable:                    cnt   R-squared:                       0.826\n",
      "Model:                            OLS   Adj. R-squared:                  0.823\n",
      "Method:                 Least Squares   F-statistic:                     283.4\n",
      "Date:                Wed, 22 Dec 2021   Prob (F-statistic):          1.60e-197\n",
      "Time:                        20:24:26   Log-Likelihood:                -4442.8\n",
      "No. Observations:                 547   AIC:                             8906.\n",
      "Df Residuals:                     537   BIC:                             8949.\n",
      "Df Model:                           9                                         \n",
      "Covariance Type:            nonrobust                                         \n",
      "===============================================================================================================\n",
      "                                                  coef    std err          t      P>|t|      [0.025      0.975]\n",
      "---------------------------------------------------------------------------------------------------------------\n",
      "const                                        1900.2077    183.458     10.358      0.000    1539.825    2260.591\n",
      "yr                                           2019.9445     70.891     28.494      0.000    1880.686    2159.203\n",
      "season_Spring                               -1026.6947    130.189     -7.886      0.000   -1282.437    -770.952\n",
      "season_Winter                                 534.7020    105.686      5.059      0.000     327.093     742.311\n",
      "mnth_Sept                                     626.3868    133.247      4.701      0.000     364.637     888.137\n",
      "weathersit_LightRain_LightSnow_Thunderstorm -2685.5921    219.662    -12.226      0.000   -3117.095   -2254.089\n",
      "weathersit_Mist_Cloudy                       -676.1258     75.133     -8.999      0.000    -823.717    -528.535\n",
      "temp                                         3783.3434    246.200     15.367      0.000    3299.710    4266.977\n",
      "holiday                                     -1095.5425    217.782     -5.030      0.000   -1523.352    -667.733\n",
      "weekday_Sun                                  -414.9213     98.650     -4.206      0.000    -608.709    -221.133\n",
      "==============================================================================\n",
      "Omnibus:                       73.624   Durbin-Watson:                   2.076\n",
      "Prob(Omnibus):                  0.000   Jarque-Bera (JB):              204.235\n",
      "Skew:                          -0.661   Prob(JB):                     4.48e-45\n",
      "Kurtosis:                       5.686   Cond. No.                         12.8\n",
      "==============================================================================\n",
      "\n",
      "Notes:\n",
      "[1] Standard Errors assume that the covariance matrix of the errors is correctly specified.\n"
     ]
    }
   ],
   "source": [
    "X_train_sm11 = sm.add_constant(X_train[columns])\n",
    "lm = sm.OLS(y_train, X_train_sm11).fit()\n",
    "print(lm.summary())"
   ]
  },
  {
   "cell_type": "code",
   "execution_count": 101,
   "id": "30725aaa",
   "metadata": {},
   "outputs": [
    {
     "name": "stdout",
     "output_type": "stream",
     "text": [
      "                                      Features   VIF\n",
      "6                                         temp  2.47\n",
      "0                                           yr  2.04\n",
      "5                       weathersit_Mist_Cloudy  1.51\n",
      "2                                season_Winter  1.31\n",
      "1                                season_Spring  1.29\n",
      "8                                  weekday_Sun  1.18\n",
      "3                                    mnth_Sept  1.15\n",
      "4  weathersit_LightRain_LightSnow_Thunderstorm  1.06\n",
      "7                                      holiday  1.05\n"
     ]
    }
   ],
   "source": [
    "vif = pd.DataFrame()\n",
    "vif['Features'] = X_train[columns].columns\n",
    "vif['VIF'] = [variance_inflation_factor(X_train[columns].values, i) for i in range(X_train[columns].shape[1])]\n",
    "vif['VIF'] = round(vif['VIF'],2)\n",
    "print(vif.sort_values(by='VIF',ascending=False))"
   ]
  },
  {
   "cell_type": "markdown",
   "id": "3c486817",
   "metadata": {},
   "source": [
    "##### Model_12 - This model is built using sklearn"
   ]
  },
  {
   "cell_type": "code",
   "execution_count": 102,
   "id": "ba2fcb61",
   "metadata": {},
   "outputs": [],
   "source": [
    "columns = ['yr','season_Spring', 'season_Winter', 'mnth_Sept',\n",
    "       'weathersit_LightRain_LightSnow_Thunderstorm',\n",
    "       'weathersit_Mist_Cloudy', 'temp', 'holiday','weekday_Sun']"
   ]
  },
  {
   "cell_type": "code",
   "execution_count": 103,
   "id": "a891042c",
   "metadata": {},
   "outputs": [
    {
     "data": {
      "text/plain": [
       "LinearRegression()"
      ]
     },
     "execution_count": 103,
     "metadata": {},
     "output_type": "execute_result"
    }
   ],
   "source": [
    "lr = LinearRegression()\n",
    "lr.fit(X_train[columns], y_train)"
   ]
  },
  {
   "cell_type": "code",
   "execution_count": 104,
   "id": "d753138a",
   "metadata": {},
   "outputs": [
    {
     "name": "stdout",
     "output_type": "stream",
     "text": [
      "[ 2019.9445453  -1026.69465165   534.70197014   626.38677362\n",
      " -2685.59206338  -676.12577024  3783.34340099 -1095.54248085\n",
      "  -414.92133514]\n"
     ]
    }
   ],
   "source": [
    "print(lr.coef_)"
   ]
  },
  {
   "cell_type": "code",
   "execution_count": 105,
   "id": "024d981e",
   "metadata": {},
   "outputs": [
    {
     "name": "stdout",
     "output_type": "stream",
     "text": [
      "1900.2077279016025\n"
     ]
    }
   ],
   "source": [
    "print(lr.intercept_)"
   ]
  },
  {
   "cell_type": "code",
   "execution_count": 106,
   "id": "191c5198",
   "metadata": {},
   "outputs": [
    {
     "data": {
      "text/html": [
       "<div>\n",
       "<style scoped>\n",
       "    .dataframe tbody tr th:only-of-type {\n",
       "        vertical-align: middle;\n",
       "    }\n",
       "\n",
       "    .dataframe tbody tr th {\n",
       "        vertical-align: top;\n",
       "    }\n",
       "\n",
       "    .dataframe thead th {\n",
       "        text-align: right;\n",
       "    }\n",
       "</style>\n",
       "<table border=\"1\" class=\"dataframe\">\n",
       "  <thead>\n",
       "    <tr style=\"text-align: right;\">\n",
       "      <th></th>\n",
       "      <th>Coefficient</th>\n",
       "    </tr>\n",
       "  </thead>\n",
       "  <tbody>\n",
       "    <tr>\n",
       "      <th>yr</th>\n",
       "      <td>2019.944545</td>\n",
       "    </tr>\n",
       "    <tr>\n",
       "      <th>season_Spring</th>\n",
       "      <td>-1026.694652</td>\n",
       "    </tr>\n",
       "    <tr>\n",
       "      <th>season_Winter</th>\n",
       "      <td>534.701970</td>\n",
       "    </tr>\n",
       "    <tr>\n",
       "      <th>mnth_Sept</th>\n",
       "      <td>626.386774</td>\n",
       "    </tr>\n",
       "    <tr>\n",
       "      <th>weathersit_LightRain_LightSnow_Thunderstorm</th>\n",
       "      <td>-2685.592063</td>\n",
       "    </tr>\n",
       "    <tr>\n",
       "      <th>weathersit_Mist_Cloudy</th>\n",
       "      <td>-676.125770</td>\n",
       "    </tr>\n",
       "    <tr>\n",
       "      <th>temp</th>\n",
       "      <td>3783.343401</td>\n",
       "    </tr>\n",
       "    <tr>\n",
       "      <th>holiday</th>\n",
       "      <td>-1095.542481</td>\n",
       "    </tr>\n",
       "    <tr>\n",
       "      <th>weekday_Sun</th>\n",
       "      <td>-414.921335</td>\n",
       "    </tr>\n",
       "  </tbody>\n",
       "</table>\n",
       "</div>"
      ],
      "text/plain": [
       "                                             Coefficient\n",
       "yr                                           2019.944545\n",
       "season_Spring                               -1026.694652\n",
       "season_Winter                                 534.701970\n",
       "mnth_Sept                                     626.386774\n",
       "weathersit_LightRain_LightSnow_Thunderstorm -2685.592063\n",
       "weathersit_Mist_Cloudy                       -676.125770\n",
       "temp                                         3783.343401\n",
       "holiday                                     -1095.542481\n",
       "weekday_Sun                                  -414.921335"
      ]
     },
     "execution_count": 106,
     "metadata": {},
     "output_type": "execute_result"
    }
   ],
   "source": [
    "coeff_df = pd.DataFrame(lr.coef_,X_train[columns].columns,columns=['Coefficient'])\n",
    "coeff_df"
   ]
  },
  {
   "cell_type": "markdown",
   "id": "46eb01a3",
   "metadata": {},
   "source": [
    "#### Observation acquired by building 12 different models "
   ]
  },
  {
   "cell_type": "markdown",
   "id": "d064cec5",
   "metadata": {},
   "source": [
    "- By building Model_1 and Model_2 it is acknowledged that 'days_old' column or variable has highest VIF among other variables and it was futher dropped by the model.\n",
    "- By building Model_3 it is acknowledged that 'holidays' column has high p-value when compared to the other variable. Therefore, it is an insignificant variable and it was dropped and not included in the model_4.\n",
    "- By building Model_4 it is acknowledged that 'temp' variable has has highest VIF among other variables and it was dropped and not included in the model_5.\n",
    "- By building Model_5 it is acknowledged that 'mnth_jul'column has high p-value when compared to the other variable. Therefore, it is an insignificant variable and it was dropped and not included in the model_6.\n",
    "- By building Model_6 it is acknowledged that 'windspeed' variable has has highest VIF among other variables and it was dropped and not included in the model_7.\n",
    "- By building Model_7 it is acknowledged that 'workingday' variable has has highest VIF among other variables and it was dropped and not included in the model_8.\n",
    "- By building Model_8 it is acknowledged that 'workingday' variable was not included in this model.\n",
    "- By building Model_9 it is acknowledged that 'temp' variable was added to this model.\n",
    "- By building Model_10 it is acknowledged that 'holiday' variable was added to this model.\n",
    "- By building Model_11 it is acknowledged that 'weekday_Sat' variable was dropped and instead of that 'weekday_Sun'variable was utilized to that model.\n",
    "- Model_11 was selected as a final model for final model because of the reasons provided below:\n",
    "    - For variables the p-value was 0.0 and R2 was 0.826.\n",
    "    - There was no multicolinearity as the VIF for all the variables was in acceptable range.\n",
    "    - There were no additional parameters that can be removed from this model as the difference between R-squared and Adjusted R-squared values for this model is very less."
   ]
  },
  {
   "cell_type": "markdown",
   "id": "451e1eca",
   "metadata": {},
   "source": [
    "### Model Evaluation"
   ]
  },
  {
   "cell_type": "code",
   "execution_count": 107,
   "id": "9be06d56",
   "metadata": {},
   "outputs": [],
   "source": [
    "y_train_pred = lr.predict(X_train[columns])  # Predicting the model for the training dataset"
   ]
  },
  {
   "cell_type": "code",
   "execution_count": 108,
   "id": "e856242e",
   "metadata": {},
   "outputs": [],
   "source": [
    "residual = y_train - y_train_pred            # creating a residual using target variable  "
   ]
  },
  {
   "cell_type": "code",
   "execution_count": 109,
   "id": "b7e25db2",
   "metadata": {},
   "outputs": [
    {
     "data": {
      "image/png": "[encoded data removed]",
      "text/plain": [
       "<Figure size 432x288 with 1 Axes>"
      ]
     },
     "metadata": {
      "needs_background": "light"
     },
     "output_type": "display_data"
    },
    {
     "data": {
      "image/png": "[encoded data removed]",
      "text/plain": [
       "<Figure size 432x288 with 1 Axes>"
      ]
     },
     "metadata": {
      "needs_background": "light"
     },
     "output_type": "display_data"
    },
    {
     "data": {
      "text/plain": [
       "Text(0, 0.5, 'y_train_pred')"
      ]
     },
     "execution_count": 109,
     "metadata": {},
     "output_type": "execute_result"
    },
    {
     "data": {
      "image/png": "[encoded data removed]",
      "text/plain": [
       "<Figure size 432x288 with 1 Axes>"
      ]
     },
     "metadata": {
      "needs_background": "light"
     },
     "output_type": "display_data"
    }
   ],
   "source": [
    "sns.distplot(residual)       # Plotting the histogram of error terms to analyse the data using residuals\n",
    "plt.title('Error Terms')\n",
    "plt.xlabel('Errors')\n",
    "plt.show()\n",
    "\n",
    "plt.scatter(y_train,residual) # Plotting the scatter plot for the created residuals to check the linear relationship\n",
    "plt.ylabel(\"y_train\")\n",
    "plt.xlabel(\"Residual\")\n",
    "plt.show()\n",
    "\n",
    "plt.scatter(y_train, y_train_pred)   # Evaluation of Homoscedasticity \n",
    "plt.title('y_train vs y_train_pred')             \n",
    "plt.xlabel('y_train')                         \n",
    "plt.ylabel('y_train_pred')"
   ]
  },
  {
   "cell_type": "code",
   "execution_count": 110,
   "id": "6a3c6a00",
   "metadata": {},
   "outputs": [
    {
     "name": "stdout",
     "output_type": "stream",
     "text": [
      "                                      Features   VIF\n",
      "6                                         temp  2.47\n",
      "0                                           yr  2.04\n",
      "5                       weathersit_Mist_Cloudy  1.51\n",
      "2                                season_Winter  1.31\n",
      "1                                season_Spring  1.29\n",
      "8                                  weekday_Sun  1.18\n",
      "3                                    mnth_Sept  1.15\n",
      "4  weathersit_LightRain_LightSnow_Thunderstorm  1.06\n",
      "7                                      holiday  1.05\n"
     ]
    }
   ],
   "source": [
    "vif = pd.DataFrame()              # Evalution of multicolinearity in the model\n",
    "vif['Features'] = X_train[columns].columns\n",
    "vif['VIF'] = [variance_inflation_factor(X_train[columns].values, i) for i in range(X_train[columns].shape[1])]\n",
    "vif['VIF'] = round(vif['VIF'],2)\n",
    "print(vif.sort_values(by='VIF',ascending=False))"
   ]
  },
  {
   "cell_type": "markdown",
   "id": "b76f946f",
   "metadata": {},
   "source": [
    "#### Observation acquired by evaluating the model:"
   ]
  },
  {
   "cell_type": "markdown",
   "id": "78c2f194",
   "metadata": {},
   "source": [
    "- From the histogram aquired by anayzing the model using residual it is analyzed that residuals are normally distributed and it also shows that all our assumptions are valid.\n",
    "- Accross predictions variance of the residuals (error terms) is constant which means as the value of the predictor variable changes error term does not vary.\n",
    "- By calcuting VIF value it is acknowledged that as all the values are within permissible range of below 5 there is no multicollinearity existing between the predictor variables."
   ]
  },
  {
   "cell_type": "markdown",
   "id": "f029034d",
   "metadata": {},
   "source": [
    "### Predictions and Interpretations"
   ]
  },
  {
   "cell_type": "code",
   "execution_count": 111,
   "id": "61594911",
   "metadata": {},
   "outputs": [],
   "source": [
    "variables = ['temp','atemp','hum','windspeed']   # Scaling the variables in X_test \n",
    "X_test[variables] = scaler.transform(X_test[variables]) # Test data will not fit it can only be transformed"
   ]
  },
  {
   "cell_type": "code",
   "execution_count": 112,
   "id": "cabee951",
   "metadata": {},
   "outputs": [],
   "source": [
    "columns = ['yr','season_Spring', 'season_Winter', 'mnth_Sept',\n",
    "       'weathersit_LightRain_LightSnow_Thunderstorm',\n",
    "       'weathersit_Mist_Cloudy', 'temp', 'holiday','weekday_Sun']"
   ]
  },
  {
   "cell_type": "code",
   "execution_count": 113,
   "id": "4b2bc8ae",
   "metadata": {},
   "outputs": [
    {
     "data": {
      "text/plain": [
       "['yr',\n",
       " 'season_Spring',\n",
       " 'season_Winter',\n",
       " 'mnth_Sept',\n",
       " 'weathersit_LightRain_LightSnow_Thunderstorm',\n",
       " 'weathersit_Mist_Cloudy',\n",
       " 'temp',\n",
       " 'holiday',\n",
       " 'weekday_Sun']"
      ]
     },
     "execution_count": 113,
     "metadata": {},
     "output_type": "execute_result"
    }
   ],
   "source": [
    "columns"
   ]
  },
  {
   "cell_type": "code",
   "execution_count": 114,
   "id": "20397ae2",
   "metadata": {},
   "outputs": [],
   "source": [
    "y_test_pred = lr.predict(X_test[columns])  # Predicting the values for the provided test data"
   ]
  },
  {
   "cell_type": "code",
   "execution_count": 115,
   "id": "bde569f5",
   "metadata": {},
   "outputs": [
    {
     "data": {
      "text/plain": [
       "0.7934290929103035"
      ]
     },
     "execution_count": 115,
     "metadata": {},
     "output_type": "execute_result"
    }
   ],
   "source": [
    "r2_score(y_test,y_test_pred)    # R2_score or R-Squared value for the test dataset"
   ]
  },
  {
   "cell_type": "code",
   "execution_count": 116,
   "id": "bbd6b3a7",
   "metadata": {},
   "outputs": [
    {
     "data": {
      "text/html": [
       "<div>\n",
       "<style scoped>\n",
       "    .dataframe tbody tr th:only-of-type {\n",
       "        vertical-align: middle;\n",
       "    }\n",
       "\n",
       "    .dataframe tbody tr th {\n",
       "        vertical-align: top;\n",
       "    }\n",
       "\n",
       "    .dataframe thead th {\n",
       "        text-align: right;\n",
       "    }\n",
       "</style>\n",
       "<table border=\"1\" class=\"dataframe\">\n",
       "  <thead>\n",
       "    <tr style=\"text-align: right;\">\n",
       "      <th></th>\n",
       "      <th>Coefficient</th>\n",
       "    </tr>\n",
       "  </thead>\n",
       "  <tbody>\n",
       "    <tr>\n",
       "      <th>yr</th>\n",
       "      <td>2019.944545</td>\n",
       "    </tr>\n",
       "    <tr>\n",
       "      <th>season_Spring</th>\n",
       "      <td>-1026.694652</td>\n",
       "    </tr>\n",
       "    <tr>\n",
       "      <th>season_Winter</th>\n",
       "      <td>534.701970</td>\n",
       "    </tr>\n",
       "    <tr>\n",
       "      <th>mnth_Sept</th>\n",
       "      <td>626.386774</td>\n",
       "    </tr>\n",
       "    <tr>\n",
       "      <th>weathersit_LightRain_LightSnow_Thunderstorm</th>\n",
       "      <td>-2685.592063</td>\n",
       "    </tr>\n",
       "    <tr>\n",
       "      <th>weathersit_Mist_Cloudy</th>\n",
       "      <td>-676.125770</td>\n",
       "    </tr>\n",
       "    <tr>\n",
       "      <th>temp</th>\n",
       "      <td>3783.343401</td>\n",
       "    </tr>\n",
       "    <tr>\n",
       "      <th>holiday</th>\n",
       "      <td>-1095.542481</td>\n",
       "    </tr>\n",
       "    <tr>\n",
       "      <th>weekday_Sun</th>\n",
       "      <td>-414.921335</td>\n",
       "    </tr>\n",
       "  </tbody>\n",
       "</table>\n",
       "</div>"
      ],
      "text/plain": [
       "                                             Coefficient\n",
       "yr                                           2019.944545\n",
       "season_Spring                               -1026.694652\n",
       "season_Winter                                 534.701970\n",
       "mnth_Sept                                     626.386774\n",
       "weathersit_LightRain_LightSnow_Thunderstorm -2685.592063\n",
       "weathersit_Mist_Cloudy                       -676.125770\n",
       "temp                                         3783.343401\n",
       "holiday                                     -1095.542481\n",
       "weekday_Sun                                  -414.921335"
      ]
     },
     "execution_count": 116,
     "metadata": {},
     "output_type": "execute_result"
    }
   ],
   "source": [
    "coeff_df"
   ]
  },
  {
   "cell_type": "markdown",
   "id": "140e70c9",
   "metadata": {},
   "source": [
    "#### Observation acquired by predictions and interpretation:"
   ]
  },
  {
   "cell_type": "markdown",
   "id": "b63243d0",
   "metadata": {},
   "source": [
    "Variables that are significant to predict the demand for shared bikes are described below:\n",
    "- temp\n",
    "- yr\n",
    "- holiday\n",
    "- season\n",
    "- weekday Sunday\n",
    "- month"
   ]
  },
  {
   "cell_type": "markdown",
   "id": "dcf1574e",
   "metadata": {},
   "source": [
    "Equation acquired by the model for the best fit line is described below:\n",
    "\n",
    "cnt = 1900.2077 + (2019.944545*yr) + ((-1026.694652)*season_Spring) +(534.701970*season_Winter) + (626.386774*mnth_Sept) + ((-2685.592063)*weathersit_LightRain_LightSnow_Thunderstorm) + ((-676.125770)*weathersit_Mist_Cloudy) + (676.125770*temp) + ((-1095.542481)*holiday) + ((-414.921335)*weekday_Sun)\n",
    "\n",
    "Here,\n",
    "- yr: coefficient of yr depicts that yr will increase bike hiring by 2019.944545 value if the unit increase in yr variable\n",
    "- season_Spring: coefficient of season_Spring depicts that season_Spring will decrease bike hiring by 1026.694652 value if the unit increase in season_Spring variable.\n",
    "- season_Winter: coefficient of season_Winter depicts that season_Winter will increase bike hiring by 534.701970 value if the unit increase in season_Winter variable.\n",
    "- mnth_Sept: coefficient of mnth_Sept depicts that mnth_Sept will increase bike hiring by 626.386774 value if the unit increase in mnth_Sept variable.\n",
    "- weathersit_LightRain_LightSnow_Thunderstorm: coefficient of weathersit_LightRain_LightSnow_Thunderstorm depicts that weathersit_LightRain_LightSnow_Thunderstorm will decrease bike hiring by 2685.592063 value if the unit increase in weathersit_LightRain_LightSnow_Thunderstorm variable.\n",
    "- weathersit_Mist_Cloudy: coefficient of weathersit_Mist_Cloudy depicts that weathersit_Mist_Cloudy will decrease bike hiring by 676.125770 value if the unit increase in weathersit_Mist_Cloudy variable.\n",
    "- temp: coefficient of temp depicts that temp will increase bike hiring by 676.125770 value if the unit increase in temp variable.\n",
    "- weekday_Sun: coefficient of weekday_Sun depicts that weekday_Sun will decrease bike hiring by 414.921335 value if the unit increase in weekday_Sun variable."
   ]
  }
 ],
 "metadata": {
  "kernelspec": {
   "display_name": "Python 3",
   "language": "python",
   "name": "python3"
  },
  "language_info": {
   "codemirror_mode": {
    "name": "ipython",
    "version": 3
   },
   "file_extension": ".py",
   "mimetype": "text/x-python",
   "name": "python",
   "nbconvert_exporter": "python",
   "pygments_lexer": "ipython3",
   "version": "3.8.8"
  }
 },
 "nbformat": 4,
 "nbformat_minor": 5
}
